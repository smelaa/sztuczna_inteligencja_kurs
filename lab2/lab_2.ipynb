{
  "cells": [
    {
      "cell_type": "markdown",
      "metadata": {
        "id": "Gj9r4FDSMci7"
      },
      "source": [
        "# Klasyfikacja niezbalansowana, klasyfikatory zespołowe i wyjaśnialna AI"
      ]
    },
    {
      "cell_type": "markdown",
      "metadata": {
        "id": "F_NJVkM3McjA"
      },
      "source": [
        "## Wykorzystanie Google Colab\n",
        "\n",
        "Jeśli korzystasz z Google Colab skopiuj plik `feature_names.json` do katalogu głównego projektu.\n",
        "\n",
        "[![Open in Colab](https://colab.research.google.com/assets/colab-badge.svg)](https://colab.research.google.com/github/apohllo/sztuczna-inteligencja/blob/master/lab2/lab_2.ipynb)"
      ]
    },
    {
      "cell_type": "markdown",
      "metadata": {
        "id": "7kEy4h9sMcjB"
      },
      "source": [
        "## Ładowanie i eksploracja danych"
      ]
    },
    {
      "cell_type": "markdown",
      "metadata": {
        "id": "XBsRephfMcjC"
      },
      "source": [
        "Na tym laboratorium wykorzystamy zbiór danych [Polish companies bankruptcy](https://archive.ics.uci.edu/ml/datasets/Polish+companies+bankruptcy+data). Dotyczy on klasyfikacji, na podstawie danych z raportów finansowych, czy firma zbankrutuje w ciągu najbliższych kilku lat. Jest to zadanie szczególnie istotne dla banków, funduszy inwestycyjnych, firm ubezpieczeniowych itp., które z tego powodu zatrudniają licznie data scientistów. Zbiór zawiera 64 cechy, obliczone przez ekonomistów, którzy stworzyli ten zbiór, są one opisane na podlinkowanej wcześniej stronie. Dotyczą one zysków, posiadanych zasobów oraz długów firm.\n",
        "\n",
        "Ściągnij i rozpakuj dane (`Data Folder` -> `data.zip`) do katalogu `data` obok tego notebooka. Znajduje się tam 5 plików w formacie `.arff`, wykorzystywanym głównie przez oprogramowanie Weka. Jest to program do \"klikania\" ML w interfejsie graficznym, jakiś czas temu popularny wśród mniej technicznych data scientistów. W Pythonie ładuje się je za pomocą bibliotek SciPy i Pandas.\n"
      ]
    },
    {
      "cell_type": "markdown",
      "metadata": {
        "id": "qAbjEr-KMcjC"
      },
      "source": [
        "Jeśli korzystasz z Linuksa możesz skorzystać z poniższych poleceń do pobrania i rozpakowania tych plików."
      ]
    },
    {
      "cell_type": "code",
      "execution_count": 1,
      "metadata": {
        "colab": {
          "base_uri": "https://localhost:8080/"
        },
        "id": "J7tq_BHSMcjD",
        "outputId": "5aa21c3b-179d-4856-95fb-ed02bbd38f26",
        "scrolled": true
      },
      "outputs": [
        {
          "output_type": "stream",
          "name": "stdout",
          "text": [
            "--2023-11-27 18:54:38--  https://archive.ics.uci.edu/static/public/365/polish+companies+bankruptcy+data.zip\n",
            "Resolving archive.ics.uci.edu (archive.ics.uci.edu)... 128.195.10.252\n",
            "Connecting to archive.ics.uci.edu (archive.ics.uci.edu)|128.195.10.252|:443... connected.\n",
            "HTTP request sent, awaiting response... 200 OK\n",
            "Length: unspecified\n",
            "Saving to: ‘data/data.zip’\n",
            "\n",
            "\rdata/data.zip           [<=>                 ]       0  --.-KB/s               \rdata/data.zip           [ <=>                ]   8.42M  43.8MB/s    in 0.2s    \n",
            "\n",
            "2023-11-27 18:54:38 (43.8 MB/s) - ‘data/data.zip’ saved [8834471]\n",
            "\n"
          ]
        }
      ],
      "source": [
        "!mkdir -p data\n",
        "!wget https://archive.ics.uci.edu/static/public/365/polish+companies+bankruptcy+data.zip -O data/data.zip"
      ]
    },
    {
      "cell_type": "code",
      "execution_count": 2,
      "metadata": {
        "id": "SUDBIRd7McjF",
        "colab": {
          "base_uri": "https://localhost:8080/"
        },
        "outputId": "ca0b614b-973f-45cb-85a2-7df7488431be"
      },
      "outputs": [
        {
          "output_type": "stream",
          "name": "stdout",
          "text": [
            "Archive:  data/data.zip\n",
            "replace data/1year.arff? [y]es, [n]o, [A]ll, [N]one, [r]ename: "
          ]
        }
      ],
      "source": [
        "!unzip data/data.zip -d data"
      ]
    },
    {
      "cell_type": "markdown",
      "metadata": {
        "id": "pCosT9eFMcjF"
      },
      "source": [
        "\n",
        "W dalszej części laboratorium wykorzystamy plik `3year.arff`, w którym na podstawie finansowych firmy po 3 latach monitorowania chcemy przewidywać, czy firma zbankrutuje w ciągu najbliższych 3 lat. Jest to dość realistyczny horyzont czasowy.\n",
        "\n",
        "Dodatkowo w pliku `feature_names.json` znajdują się nazwy cech. Są bardzo długie, więc póki co nie będziemy z nich korzystać."
      ]
    },
    {
      "cell_type": "code",
      "execution_count": 3,
      "metadata": {
        "id": "J49hhIeBMcjG"
      },
      "outputs": [],
      "source": [
        "import json\n",
        "import os\n",
        "\n",
        "from scipy.io import arff\n",
        "import pandas as pd\n",
        "\n",
        "data = arff.loadarff(os.path.join(\"data\", \"3year.arff\"))\n",
        "\n",
        "with open(\"feature_names.json\") as file:\n",
        "    feature_names = json.load(file)\n",
        "\n",
        "X = pd.DataFrame(data[0])"
      ]
    },
    {
      "cell_type": "markdown",
      "metadata": {
        "id": "qstSetK7McjG"
      },
      "source": [
        "Przyjrzyjmy się teraz naszym danym."
      ]
    },
    {
      "cell_type": "code",
      "execution_count": 4,
      "metadata": {
        "colab": {
          "base_uri": "https://localhost:8080/",
          "height": 236
        },
        "id": "IcpQRzG_McjH",
        "outputId": "56ea865a-5c33-4aa6-946b-8435d54d83bf"
      },
      "outputs": [
        {
          "output_type": "execute_result",
          "data": {
            "text/plain": [
              "      Attr1    Attr2    Attr3   Attr4    Attr5    Attr6     Attr7   Attr8  \\\n",
              "0  0.174190  0.41299  0.14371  1.3480 -28.9820  0.60383  0.219460  1.1225   \n",
              "1  0.146240  0.46038  0.28230  1.6294   2.5952  0.00000  0.171850  1.1721   \n",
              "2  0.000595  0.22612  0.48839  3.1599  84.8740  0.19114  0.004572  2.9881   \n",
              "3  0.024526  0.43236  0.27546  1.7833 -10.1050  0.56944  0.024526  1.3057   \n",
              "4  0.188290  0.41504  0.34231  1.9279 -58.2740  0.00000  0.233580  1.4094   \n",
              "\n",
              "    Attr9   Attr10  ...    Attr56    Attr57   Attr58    Attr59  Attr60  \\\n",
              "0  1.1961  0.46359  ...  0.163960  0.375740  0.83604  0.000007  9.7145   \n",
              "1  1.6018  0.53962  ...  0.027516  0.271000  0.90108  0.000000  5.9882   \n",
              "2  1.0077  0.67566  ...  0.007639  0.000881  0.99236  0.000000  6.7742   \n",
              "3  1.0509  0.56453  ...  0.048398  0.043445  0.95160  0.142980  4.2286   \n",
              "4  1.3393  0.58496  ...  0.176480  0.321880  0.82635  0.073039  2.5912   \n",
              "\n",
              "   Attr61   Attr62  Attr63  Attr64  class  \n",
              "0  6.2813   84.291  4.3303  4.0341   b'0'  \n",
              "1  4.1103  102.190  3.5716  5.9500   b'0'  \n",
              "2  3.7922   64.846  5.6287  4.4581   b'0'  \n",
              "3  5.0528   98.783  3.6950  3.4844   b'0'  \n",
              "4  7.0756  100.540  3.6303  4.6375   b'0'  \n",
              "\n",
              "[5 rows x 65 columns]"
            ],
            "text/html": [
              "\n",
              "  <div id=\"df-210736b2-a55e-4cdd-89b9-5f0da8fcb2ac\" class=\"colab-df-container\">\n",
              "    <div>\n",
              "<style scoped>\n",
              "    .dataframe tbody tr th:only-of-type {\n",
              "        vertical-align: middle;\n",
              "    }\n",
              "\n",
              "    .dataframe tbody tr th {\n",
              "        vertical-align: top;\n",
              "    }\n",
              "\n",
              "    .dataframe thead th {\n",
              "        text-align: right;\n",
              "    }\n",
              "</style>\n",
              "<table border=\"1\" class=\"dataframe\">\n",
              "  <thead>\n",
              "    <tr style=\"text-align: right;\">\n",
              "      <th></th>\n",
              "      <th>Attr1</th>\n",
              "      <th>Attr2</th>\n",
              "      <th>Attr3</th>\n",
              "      <th>Attr4</th>\n",
              "      <th>Attr5</th>\n",
              "      <th>Attr6</th>\n",
              "      <th>Attr7</th>\n",
              "      <th>Attr8</th>\n",
              "      <th>Attr9</th>\n",
              "      <th>Attr10</th>\n",
              "      <th>...</th>\n",
              "      <th>Attr56</th>\n",
              "      <th>Attr57</th>\n",
              "      <th>Attr58</th>\n",
              "      <th>Attr59</th>\n",
              "      <th>Attr60</th>\n",
              "      <th>Attr61</th>\n",
              "      <th>Attr62</th>\n",
              "      <th>Attr63</th>\n",
              "      <th>Attr64</th>\n",
              "      <th>class</th>\n",
              "    </tr>\n",
              "  </thead>\n",
              "  <tbody>\n",
              "    <tr>\n",
              "      <th>0</th>\n",
              "      <td>0.174190</td>\n",
              "      <td>0.41299</td>\n",
              "      <td>0.14371</td>\n",
              "      <td>1.3480</td>\n",
              "      <td>-28.9820</td>\n",
              "      <td>0.60383</td>\n",
              "      <td>0.219460</td>\n",
              "      <td>1.1225</td>\n",
              "      <td>1.1961</td>\n",
              "      <td>0.46359</td>\n",
              "      <td>...</td>\n",
              "      <td>0.163960</td>\n",
              "      <td>0.375740</td>\n",
              "      <td>0.83604</td>\n",
              "      <td>0.000007</td>\n",
              "      <td>9.7145</td>\n",
              "      <td>6.2813</td>\n",
              "      <td>84.291</td>\n",
              "      <td>4.3303</td>\n",
              "      <td>4.0341</td>\n",
              "      <td>b'0'</td>\n",
              "    </tr>\n",
              "    <tr>\n",
              "      <th>1</th>\n",
              "      <td>0.146240</td>\n",
              "      <td>0.46038</td>\n",
              "      <td>0.28230</td>\n",
              "      <td>1.6294</td>\n",
              "      <td>2.5952</td>\n",
              "      <td>0.00000</td>\n",
              "      <td>0.171850</td>\n",
              "      <td>1.1721</td>\n",
              "      <td>1.6018</td>\n",
              "      <td>0.53962</td>\n",
              "      <td>...</td>\n",
              "      <td>0.027516</td>\n",
              "      <td>0.271000</td>\n",
              "      <td>0.90108</td>\n",
              "      <td>0.000000</td>\n",
              "      <td>5.9882</td>\n",
              "      <td>4.1103</td>\n",
              "      <td>102.190</td>\n",
              "      <td>3.5716</td>\n",
              "      <td>5.9500</td>\n",
              "      <td>b'0'</td>\n",
              "    </tr>\n",
              "    <tr>\n",
              "      <th>2</th>\n",
              "      <td>0.000595</td>\n",
              "      <td>0.22612</td>\n",
              "      <td>0.48839</td>\n",
              "      <td>3.1599</td>\n",
              "      <td>84.8740</td>\n",
              "      <td>0.19114</td>\n",
              "      <td>0.004572</td>\n",
              "      <td>2.9881</td>\n",
              "      <td>1.0077</td>\n",
              "      <td>0.67566</td>\n",
              "      <td>...</td>\n",
              "      <td>0.007639</td>\n",
              "      <td>0.000881</td>\n",
              "      <td>0.99236</td>\n",
              "      <td>0.000000</td>\n",
              "      <td>6.7742</td>\n",
              "      <td>3.7922</td>\n",
              "      <td>64.846</td>\n",
              "      <td>5.6287</td>\n",
              "      <td>4.4581</td>\n",
              "      <td>b'0'</td>\n",
              "    </tr>\n",
              "    <tr>\n",
              "      <th>3</th>\n",
              "      <td>0.024526</td>\n",
              "      <td>0.43236</td>\n",
              "      <td>0.27546</td>\n",
              "      <td>1.7833</td>\n",
              "      <td>-10.1050</td>\n",
              "      <td>0.56944</td>\n",
              "      <td>0.024526</td>\n",
              "      <td>1.3057</td>\n",
              "      <td>1.0509</td>\n",
              "      <td>0.56453</td>\n",
              "      <td>...</td>\n",
              "      <td>0.048398</td>\n",
              "      <td>0.043445</td>\n",
              "      <td>0.95160</td>\n",
              "      <td>0.142980</td>\n",
              "      <td>4.2286</td>\n",
              "      <td>5.0528</td>\n",
              "      <td>98.783</td>\n",
              "      <td>3.6950</td>\n",
              "      <td>3.4844</td>\n",
              "      <td>b'0'</td>\n",
              "    </tr>\n",
              "    <tr>\n",
              "      <th>4</th>\n",
              "      <td>0.188290</td>\n",
              "      <td>0.41504</td>\n",
              "      <td>0.34231</td>\n",
              "      <td>1.9279</td>\n",
              "      <td>-58.2740</td>\n",
              "      <td>0.00000</td>\n",
              "      <td>0.233580</td>\n",
              "      <td>1.4094</td>\n",
              "      <td>1.3393</td>\n",
              "      <td>0.58496</td>\n",
              "      <td>...</td>\n",
              "      <td>0.176480</td>\n",
              "      <td>0.321880</td>\n",
              "      <td>0.82635</td>\n",
              "      <td>0.073039</td>\n",
              "      <td>2.5912</td>\n",
              "      <td>7.0756</td>\n",
              "      <td>100.540</td>\n",
              "      <td>3.6303</td>\n",
              "      <td>4.6375</td>\n",
              "      <td>b'0'</td>\n",
              "    </tr>\n",
              "  </tbody>\n",
              "</table>\n",
              "<p>5 rows × 65 columns</p>\n",
              "</div>\n",
              "    <div class=\"colab-df-buttons\">\n",
              "\n",
              "  <div class=\"colab-df-container\">\n",
              "    <button class=\"colab-df-convert\" onclick=\"convertToInteractive('df-210736b2-a55e-4cdd-89b9-5f0da8fcb2ac')\"\n",
              "            title=\"Convert this dataframe to an interactive table.\"\n",
              "            style=\"display:none;\">\n",
              "\n",
              "  <svg xmlns=\"http://www.w3.org/2000/svg\" height=\"24px\" viewBox=\"0 -960 960 960\">\n",
              "    <path d=\"M120-120v-720h720v720H120Zm60-500h600v-160H180v160Zm220 220h160v-160H400v160Zm0 220h160v-160H400v160ZM180-400h160v-160H180v160Zm440 0h160v-160H620v160ZM180-180h160v-160H180v160Zm440 0h160v-160H620v160Z\"/>\n",
              "  </svg>\n",
              "    </button>\n",
              "\n",
              "  <style>\n",
              "    .colab-df-container {\n",
              "      display:flex;\n",
              "      gap: 12px;\n",
              "    }\n",
              "\n",
              "    .colab-df-convert {\n",
              "      background-color: #E8F0FE;\n",
              "      border: none;\n",
              "      border-radius: 50%;\n",
              "      cursor: pointer;\n",
              "      display: none;\n",
              "      fill: #1967D2;\n",
              "      height: 32px;\n",
              "      padding: 0 0 0 0;\n",
              "      width: 32px;\n",
              "    }\n",
              "\n",
              "    .colab-df-convert:hover {\n",
              "      background-color: #E2EBFA;\n",
              "      box-shadow: 0px 1px 2px rgba(60, 64, 67, 0.3), 0px 1px 3px 1px rgba(60, 64, 67, 0.15);\n",
              "      fill: #174EA6;\n",
              "    }\n",
              "\n",
              "    .colab-df-buttons div {\n",
              "      margin-bottom: 4px;\n",
              "    }\n",
              "\n",
              "    [theme=dark] .colab-df-convert {\n",
              "      background-color: #3B4455;\n",
              "      fill: #D2E3FC;\n",
              "    }\n",
              "\n",
              "    [theme=dark] .colab-df-convert:hover {\n",
              "      background-color: #434B5C;\n",
              "      box-shadow: 0px 1px 3px 1px rgba(0, 0, 0, 0.15);\n",
              "      filter: drop-shadow(0px 1px 2px rgba(0, 0, 0, 0.3));\n",
              "      fill: #FFFFFF;\n",
              "    }\n",
              "  </style>\n",
              "\n",
              "    <script>\n",
              "      const buttonEl =\n",
              "        document.querySelector('#df-210736b2-a55e-4cdd-89b9-5f0da8fcb2ac button.colab-df-convert');\n",
              "      buttonEl.style.display =\n",
              "        google.colab.kernel.accessAllowed ? 'block' : 'none';\n",
              "\n",
              "      async function convertToInteractive(key) {\n",
              "        const element = document.querySelector('#df-210736b2-a55e-4cdd-89b9-5f0da8fcb2ac');\n",
              "        const dataTable =\n",
              "          await google.colab.kernel.invokeFunction('convertToInteractive',\n",
              "                                                    [key], {});\n",
              "        if (!dataTable) return;\n",
              "\n",
              "        const docLinkHtml = 'Like what you see? Visit the ' +\n",
              "          '<a target=\"_blank\" href=https://colab.research.google.com/notebooks/data_table.ipynb>data table notebook</a>'\n",
              "          + ' to learn more about interactive tables.';\n",
              "        element.innerHTML = '';\n",
              "        dataTable['output_type'] = 'display_data';\n",
              "        await google.colab.output.renderOutput(dataTable, element);\n",
              "        const docLink = document.createElement('div');\n",
              "        docLink.innerHTML = docLinkHtml;\n",
              "        element.appendChild(docLink);\n",
              "      }\n",
              "    </script>\n",
              "  </div>\n",
              "\n",
              "\n",
              "<div id=\"df-e31d020f-98cf-4e9f-8479-f2eaffd47a3a\">\n",
              "  <button class=\"colab-df-quickchart\" onclick=\"quickchart('df-e31d020f-98cf-4e9f-8479-f2eaffd47a3a')\"\n",
              "            title=\"Suggest charts\"\n",
              "            style=\"display:none;\">\n",
              "\n",
              "<svg xmlns=\"http://www.w3.org/2000/svg\" height=\"24px\"viewBox=\"0 0 24 24\"\n",
              "     width=\"24px\">\n",
              "    <g>\n",
              "        <path d=\"M19 3H5c-1.1 0-2 .9-2 2v14c0 1.1.9 2 2 2h14c1.1 0 2-.9 2-2V5c0-1.1-.9-2-2-2zM9 17H7v-7h2v7zm4 0h-2V7h2v10zm4 0h-2v-4h2v4z\"/>\n",
              "    </g>\n",
              "</svg>\n",
              "  </button>\n",
              "\n",
              "<style>\n",
              "  .colab-df-quickchart {\n",
              "      --bg-color: #E8F0FE;\n",
              "      --fill-color: #1967D2;\n",
              "      --hover-bg-color: #E2EBFA;\n",
              "      --hover-fill-color: #174EA6;\n",
              "      --disabled-fill-color: #AAA;\n",
              "      --disabled-bg-color: #DDD;\n",
              "  }\n",
              "\n",
              "  [theme=dark] .colab-df-quickchart {\n",
              "      --bg-color: #3B4455;\n",
              "      --fill-color: #D2E3FC;\n",
              "      --hover-bg-color: #434B5C;\n",
              "      --hover-fill-color: #FFFFFF;\n",
              "      --disabled-bg-color: #3B4455;\n",
              "      --disabled-fill-color: #666;\n",
              "  }\n",
              "\n",
              "  .colab-df-quickchart {\n",
              "    background-color: var(--bg-color);\n",
              "    border: none;\n",
              "    border-radius: 50%;\n",
              "    cursor: pointer;\n",
              "    display: none;\n",
              "    fill: var(--fill-color);\n",
              "    height: 32px;\n",
              "    padding: 0;\n",
              "    width: 32px;\n",
              "  }\n",
              "\n",
              "  .colab-df-quickchart:hover {\n",
              "    background-color: var(--hover-bg-color);\n",
              "    box-shadow: 0 1px 2px rgba(60, 64, 67, 0.3), 0 1px 3px 1px rgba(60, 64, 67, 0.15);\n",
              "    fill: var(--button-hover-fill-color);\n",
              "  }\n",
              "\n",
              "  .colab-df-quickchart-complete:disabled,\n",
              "  .colab-df-quickchart-complete:disabled:hover {\n",
              "    background-color: var(--disabled-bg-color);\n",
              "    fill: var(--disabled-fill-color);\n",
              "    box-shadow: none;\n",
              "  }\n",
              "\n",
              "  .colab-df-spinner {\n",
              "    border: 2px solid var(--fill-color);\n",
              "    border-color: transparent;\n",
              "    border-bottom-color: var(--fill-color);\n",
              "    animation:\n",
              "      spin 1s steps(1) infinite;\n",
              "  }\n",
              "\n",
              "  @keyframes spin {\n",
              "    0% {\n",
              "      border-color: transparent;\n",
              "      border-bottom-color: var(--fill-color);\n",
              "      border-left-color: var(--fill-color);\n",
              "    }\n",
              "    20% {\n",
              "      border-color: transparent;\n",
              "      border-left-color: var(--fill-color);\n",
              "      border-top-color: var(--fill-color);\n",
              "    }\n",
              "    30% {\n",
              "      border-color: transparent;\n",
              "      border-left-color: var(--fill-color);\n",
              "      border-top-color: var(--fill-color);\n",
              "      border-right-color: var(--fill-color);\n",
              "    }\n",
              "    40% {\n",
              "      border-color: transparent;\n",
              "      border-right-color: var(--fill-color);\n",
              "      border-top-color: var(--fill-color);\n",
              "    }\n",
              "    60% {\n",
              "      border-color: transparent;\n",
              "      border-right-color: var(--fill-color);\n",
              "    }\n",
              "    80% {\n",
              "      border-color: transparent;\n",
              "      border-right-color: var(--fill-color);\n",
              "      border-bottom-color: var(--fill-color);\n",
              "    }\n",
              "    90% {\n",
              "      border-color: transparent;\n",
              "      border-bottom-color: var(--fill-color);\n",
              "    }\n",
              "  }\n",
              "</style>\n",
              "\n",
              "  <script>\n",
              "    async function quickchart(key) {\n",
              "      const quickchartButtonEl =\n",
              "        document.querySelector('#' + key + ' button');\n",
              "      quickchartButtonEl.disabled = true;  // To prevent multiple clicks.\n",
              "      quickchartButtonEl.classList.add('colab-df-spinner');\n",
              "      try {\n",
              "        const charts = await google.colab.kernel.invokeFunction(\n",
              "            'suggestCharts', [key], {});\n",
              "      } catch (error) {\n",
              "        console.error('Error during call to suggestCharts:', error);\n",
              "      }\n",
              "      quickchartButtonEl.classList.remove('colab-df-spinner');\n",
              "      quickchartButtonEl.classList.add('colab-df-quickchart-complete');\n",
              "    }\n",
              "    (() => {\n",
              "      let quickchartButtonEl =\n",
              "        document.querySelector('#df-e31d020f-98cf-4e9f-8479-f2eaffd47a3a button');\n",
              "      quickchartButtonEl.style.display =\n",
              "        google.colab.kernel.accessAllowed ? 'block' : 'none';\n",
              "    })();\n",
              "  </script>\n",
              "</div>\n",
              "    </div>\n",
              "  </div>\n"
            ]
          },
          "metadata": {},
          "execution_count": 4
        }
      ],
      "source": [
        "X.head()"
      ]
    },
    {
      "cell_type": "code",
      "execution_count": 5,
      "metadata": {
        "colab": {
          "base_uri": "https://localhost:8080/"
        },
        "id": "BgkNvY8EMcjH",
        "outputId": "6a7e47da-fed6-4515-fada-bfc07c9a1f0b"
      },
      "outputs": [
        {
          "output_type": "execute_result",
          "data": {
            "text/plain": [
              "Attr1     float64\n",
              "Attr2     float64\n",
              "Attr3     float64\n",
              "Attr4     float64\n",
              "Attr5     float64\n",
              "           ...   \n",
              "Attr61    float64\n",
              "Attr62    float64\n",
              "Attr63    float64\n",
              "Attr64    float64\n",
              "class      object\n",
              "Length: 65, dtype: object"
            ]
          },
          "metadata": {},
          "execution_count": 5
        }
      ],
      "source": [
        "X.dtypes"
      ]
    },
    {
      "cell_type": "code",
      "execution_count": 6,
      "metadata": {
        "colab": {
          "base_uri": "https://localhost:8080/",
          "height": 350
        },
        "id": "zp6vWXTvMcjH",
        "outputId": "3dc3a22e-ad6d-4928-f8cb-cd49683eb407"
      },
      "outputs": [
        {
          "output_type": "execute_result",
          "data": {
            "text/plain": [
              "              Attr1         Attr2         Attr3         Attr4         Attr5  \\\n",
              "count  10503.000000  10503.000000  10503.000000  10485.000000  1.047800e+04   \n",
              "mean       0.052844      0.619911      0.095490      9.980499 -1.347662e+03   \n",
              "std        0.647797      6.427041      6.420056    523.691951  1.185806e+05   \n",
              "min      -17.692000      0.000000   -479.730000      0.002080 -1.190300e+07   \n",
              "25%        0.000686      0.253955      0.017461      1.040100 -5.207075e+01   \n",
              "50%        0.043034      0.464140      0.198560      1.605600  1.579300e+00   \n",
              "75%        0.123805      0.689330      0.419545      2.959500  5.608400e+01   \n",
              "max       52.652000    480.730000     17.708000  53433.000000  6.854400e+05   \n",
              "\n",
              "              Attr6         Attr7         Attr8         Attr9        Attr10  \\\n",
              "count  10503.000000  10503.000000  10489.000000  10500.000000  10503.000000   \n",
              "mean      -0.121159      0.065624     19.140113      1.819254      0.366093   \n",
              "std        6.970625      0.651152    717.756745      7.581659      6.428603   \n",
              "min     -508.120000    -17.692000     -2.081800     -1.215700   -479.730000   \n",
              "25%        0.000000      0.002118      0.431270      1.011275      0.297340   \n",
              "50%        0.000000      0.050945      1.111000      1.199000      0.515500   \n",
              "75%        0.072584      0.142275      2.857100      2.059100      0.725635   \n",
              "max       45.533000     52.652000  53432.000000    740.440000     11.837000   \n",
              "\n",
              "       ...        Attr55        Attr56        Attr57        Attr58  \\\n",
              "count  ...  1.050300e+04  10460.000000  10503.000000  10474.000000   \n",
              "mean   ...  6.638549e+03     -0.530082     -0.014817      3.848794   \n",
              "std    ...  5.989196e+04     55.978608     18.684047    190.201224   \n",
              "min    ... -7.513800e+05  -5691.700000  -1667.300000   -198.690000   \n",
              "25%    ...  1.462100e+01      0.005137      0.006796      0.875560   \n",
              "50%    ...  8.822900e+02      0.051765      0.106880      0.953060   \n",
              "75%    ...  4.348900e+03      0.130010      0.271310      0.995927   \n",
              "max    ...  3.380500e+06    293.150000    552.640000  18118.000000   \n",
              "\n",
              "             Attr59        Attr60        Attr61        Attr62        Attr63  \\\n",
              "count  10503.000000  9.911000e+03  10486.000000  1.046000e+04  10485.000000   \n",
              "mean       1.429319  5.713363e+02     13.935361  1.355370e+02      9.095149   \n",
              "std       77.273270  3.715967e+04     83.704103  2.599116e+04     31.419096   \n",
              "min     -172.070000  0.000000e+00     -6.590300 -2.336500e+06     -0.000156   \n",
              "25%        0.000000  5.533150e+00      4.486075  4.073700e+01      3.062800   \n",
              "50%        0.002976  9.952100e+00      6.677300  7.066400e+01      5.139200   \n",
              "75%        0.240320  2.093600e+01     10.587500  1.182200e+02      8.882600   \n",
              "max     7617.300000  3.660200e+06   4470.400000  1.073500e+06   1974.500000   \n",
              "\n",
              "             Attr64  \n",
              "count  10275.000000  \n",
              "mean      35.766800  \n",
              "std      428.298315  \n",
              "min       -0.000102  \n",
              "25%        2.023350  \n",
              "50%        4.059300  \n",
              "75%        9.682750  \n",
              "max    21499.000000  \n",
              "\n",
              "[8 rows x 64 columns]"
            ],
            "text/html": [
              "\n",
              "  <div id=\"df-f37ca975-1ec5-4408-9ff5-408c5a8b0b36\" class=\"colab-df-container\">\n",
              "    <div>\n",
              "<style scoped>\n",
              "    .dataframe tbody tr th:only-of-type {\n",
              "        vertical-align: middle;\n",
              "    }\n",
              "\n",
              "    .dataframe tbody tr th {\n",
              "        vertical-align: top;\n",
              "    }\n",
              "\n",
              "    .dataframe thead th {\n",
              "        text-align: right;\n",
              "    }\n",
              "</style>\n",
              "<table border=\"1\" class=\"dataframe\">\n",
              "  <thead>\n",
              "    <tr style=\"text-align: right;\">\n",
              "      <th></th>\n",
              "      <th>Attr1</th>\n",
              "      <th>Attr2</th>\n",
              "      <th>Attr3</th>\n",
              "      <th>Attr4</th>\n",
              "      <th>Attr5</th>\n",
              "      <th>Attr6</th>\n",
              "      <th>Attr7</th>\n",
              "      <th>Attr8</th>\n",
              "      <th>Attr9</th>\n",
              "      <th>Attr10</th>\n",
              "      <th>...</th>\n",
              "      <th>Attr55</th>\n",
              "      <th>Attr56</th>\n",
              "      <th>Attr57</th>\n",
              "      <th>Attr58</th>\n",
              "      <th>Attr59</th>\n",
              "      <th>Attr60</th>\n",
              "      <th>Attr61</th>\n",
              "      <th>Attr62</th>\n",
              "      <th>Attr63</th>\n",
              "      <th>Attr64</th>\n",
              "    </tr>\n",
              "  </thead>\n",
              "  <tbody>\n",
              "    <tr>\n",
              "      <th>count</th>\n",
              "      <td>10503.000000</td>\n",
              "      <td>10503.000000</td>\n",
              "      <td>10503.000000</td>\n",
              "      <td>10485.000000</td>\n",
              "      <td>1.047800e+04</td>\n",
              "      <td>10503.000000</td>\n",
              "      <td>10503.000000</td>\n",
              "      <td>10489.000000</td>\n",
              "      <td>10500.000000</td>\n",
              "      <td>10503.000000</td>\n",
              "      <td>...</td>\n",
              "      <td>1.050300e+04</td>\n",
              "      <td>10460.000000</td>\n",
              "      <td>10503.000000</td>\n",
              "      <td>10474.000000</td>\n",
              "      <td>10503.000000</td>\n",
              "      <td>9.911000e+03</td>\n",
              "      <td>10486.000000</td>\n",
              "      <td>1.046000e+04</td>\n",
              "      <td>10485.000000</td>\n",
              "      <td>10275.000000</td>\n",
              "    </tr>\n",
              "    <tr>\n",
              "      <th>mean</th>\n",
              "      <td>0.052844</td>\n",
              "      <td>0.619911</td>\n",
              "      <td>0.095490</td>\n",
              "      <td>9.980499</td>\n",
              "      <td>-1.347662e+03</td>\n",
              "      <td>-0.121159</td>\n",
              "      <td>0.065624</td>\n",
              "      <td>19.140113</td>\n",
              "      <td>1.819254</td>\n",
              "      <td>0.366093</td>\n",
              "      <td>...</td>\n",
              "      <td>6.638549e+03</td>\n",
              "      <td>-0.530082</td>\n",
              "      <td>-0.014817</td>\n",
              "      <td>3.848794</td>\n",
              "      <td>1.429319</td>\n",
              "      <td>5.713363e+02</td>\n",
              "      <td>13.935361</td>\n",
              "      <td>1.355370e+02</td>\n",
              "      <td>9.095149</td>\n",
              "      <td>35.766800</td>\n",
              "    </tr>\n",
              "    <tr>\n",
              "      <th>std</th>\n",
              "      <td>0.647797</td>\n",
              "      <td>6.427041</td>\n",
              "      <td>6.420056</td>\n",
              "      <td>523.691951</td>\n",
              "      <td>1.185806e+05</td>\n",
              "      <td>6.970625</td>\n",
              "      <td>0.651152</td>\n",
              "      <td>717.756745</td>\n",
              "      <td>7.581659</td>\n",
              "      <td>6.428603</td>\n",
              "      <td>...</td>\n",
              "      <td>5.989196e+04</td>\n",
              "      <td>55.978608</td>\n",
              "      <td>18.684047</td>\n",
              "      <td>190.201224</td>\n",
              "      <td>77.273270</td>\n",
              "      <td>3.715967e+04</td>\n",
              "      <td>83.704103</td>\n",
              "      <td>2.599116e+04</td>\n",
              "      <td>31.419096</td>\n",
              "      <td>428.298315</td>\n",
              "    </tr>\n",
              "    <tr>\n",
              "      <th>min</th>\n",
              "      <td>-17.692000</td>\n",
              "      <td>0.000000</td>\n",
              "      <td>-479.730000</td>\n",
              "      <td>0.002080</td>\n",
              "      <td>-1.190300e+07</td>\n",
              "      <td>-508.120000</td>\n",
              "      <td>-17.692000</td>\n",
              "      <td>-2.081800</td>\n",
              "      <td>-1.215700</td>\n",
              "      <td>-479.730000</td>\n",
              "      <td>...</td>\n",
              "      <td>-7.513800e+05</td>\n",
              "      <td>-5691.700000</td>\n",
              "      <td>-1667.300000</td>\n",
              "      <td>-198.690000</td>\n",
              "      <td>-172.070000</td>\n",
              "      <td>0.000000e+00</td>\n",
              "      <td>-6.590300</td>\n",
              "      <td>-2.336500e+06</td>\n",
              "      <td>-0.000156</td>\n",
              "      <td>-0.000102</td>\n",
              "    </tr>\n",
              "    <tr>\n",
              "      <th>25%</th>\n",
              "      <td>0.000686</td>\n",
              "      <td>0.253955</td>\n",
              "      <td>0.017461</td>\n",
              "      <td>1.040100</td>\n",
              "      <td>-5.207075e+01</td>\n",
              "      <td>0.000000</td>\n",
              "      <td>0.002118</td>\n",
              "      <td>0.431270</td>\n",
              "      <td>1.011275</td>\n",
              "      <td>0.297340</td>\n",
              "      <td>...</td>\n",
              "      <td>1.462100e+01</td>\n",
              "      <td>0.005137</td>\n",
              "      <td>0.006796</td>\n",
              "      <td>0.875560</td>\n",
              "      <td>0.000000</td>\n",
              "      <td>5.533150e+00</td>\n",
              "      <td>4.486075</td>\n",
              "      <td>4.073700e+01</td>\n",
              "      <td>3.062800</td>\n",
              "      <td>2.023350</td>\n",
              "    </tr>\n",
              "    <tr>\n",
              "      <th>50%</th>\n",
              "      <td>0.043034</td>\n",
              "      <td>0.464140</td>\n",
              "      <td>0.198560</td>\n",
              "      <td>1.605600</td>\n",
              "      <td>1.579300e+00</td>\n",
              "      <td>0.000000</td>\n",
              "      <td>0.050945</td>\n",
              "      <td>1.111000</td>\n",
              "      <td>1.199000</td>\n",
              "      <td>0.515500</td>\n",
              "      <td>...</td>\n",
              "      <td>8.822900e+02</td>\n",
              "      <td>0.051765</td>\n",
              "      <td>0.106880</td>\n",
              "      <td>0.953060</td>\n",
              "      <td>0.002976</td>\n",
              "      <td>9.952100e+00</td>\n",
              "      <td>6.677300</td>\n",
              "      <td>7.066400e+01</td>\n",
              "      <td>5.139200</td>\n",
              "      <td>4.059300</td>\n",
              "    </tr>\n",
              "    <tr>\n",
              "      <th>75%</th>\n",
              "      <td>0.123805</td>\n",
              "      <td>0.689330</td>\n",
              "      <td>0.419545</td>\n",
              "      <td>2.959500</td>\n",
              "      <td>5.608400e+01</td>\n",
              "      <td>0.072584</td>\n",
              "      <td>0.142275</td>\n",
              "      <td>2.857100</td>\n",
              "      <td>2.059100</td>\n",
              "      <td>0.725635</td>\n",
              "      <td>...</td>\n",
              "      <td>4.348900e+03</td>\n",
              "      <td>0.130010</td>\n",
              "      <td>0.271310</td>\n",
              "      <td>0.995927</td>\n",
              "      <td>0.240320</td>\n",
              "      <td>2.093600e+01</td>\n",
              "      <td>10.587500</td>\n",
              "      <td>1.182200e+02</td>\n",
              "      <td>8.882600</td>\n",
              "      <td>9.682750</td>\n",
              "    </tr>\n",
              "    <tr>\n",
              "      <th>max</th>\n",
              "      <td>52.652000</td>\n",
              "      <td>480.730000</td>\n",
              "      <td>17.708000</td>\n",
              "      <td>53433.000000</td>\n",
              "      <td>6.854400e+05</td>\n",
              "      <td>45.533000</td>\n",
              "      <td>52.652000</td>\n",
              "      <td>53432.000000</td>\n",
              "      <td>740.440000</td>\n",
              "      <td>11.837000</td>\n",
              "      <td>...</td>\n",
              "      <td>3.380500e+06</td>\n",
              "      <td>293.150000</td>\n",
              "      <td>552.640000</td>\n",
              "      <td>18118.000000</td>\n",
              "      <td>7617.300000</td>\n",
              "      <td>3.660200e+06</td>\n",
              "      <td>4470.400000</td>\n",
              "      <td>1.073500e+06</td>\n",
              "      <td>1974.500000</td>\n",
              "      <td>21499.000000</td>\n",
              "    </tr>\n",
              "  </tbody>\n",
              "</table>\n",
              "<p>8 rows × 64 columns</p>\n",
              "</div>\n",
              "    <div class=\"colab-df-buttons\">\n",
              "\n",
              "  <div class=\"colab-df-container\">\n",
              "    <button class=\"colab-df-convert\" onclick=\"convertToInteractive('df-f37ca975-1ec5-4408-9ff5-408c5a8b0b36')\"\n",
              "            title=\"Convert this dataframe to an interactive table.\"\n",
              "            style=\"display:none;\">\n",
              "\n",
              "  <svg xmlns=\"http://www.w3.org/2000/svg\" height=\"24px\" viewBox=\"0 -960 960 960\">\n",
              "    <path d=\"M120-120v-720h720v720H120Zm60-500h600v-160H180v160Zm220 220h160v-160H400v160Zm0 220h160v-160H400v160ZM180-400h160v-160H180v160Zm440 0h160v-160H620v160ZM180-180h160v-160H180v160Zm440 0h160v-160H620v160Z\"/>\n",
              "  </svg>\n",
              "    </button>\n",
              "\n",
              "  <style>\n",
              "    .colab-df-container {\n",
              "      display:flex;\n",
              "      gap: 12px;\n",
              "    }\n",
              "\n",
              "    .colab-df-convert {\n",
              "      background-color: #E8F0FE;\n",
              "      border: none;\n",
              "      border-radius: 50%;\n",
              "      cursor: pointer;\n",
              "      display: none;\n",
              "      fill: #1967D2;\n",
              "      height: 32px;\n",
              "      padding: 0 0 0 0;\n",
              "      width: 32px;\n",
              "    }\n",
              "\n",
              "    .colab-df-convert:hover {\n",
              "      background-color: #E2EBFA;\n",
              "      box-shadow: 0px 1px 2px rgba(60, 64, 67, 0.3), 0px 1px 3px 1px rgba(60, 64, 67, 0.15);\n",
              "      fill: #174EA6;\n",
              "    }\n",
              "\n",
              "    .colab-df-buttons div {\n",
              "      margin-bottom: 4px;\n",
              "    }\n",
              "\n",
              "    [theme=dark] .colab-df-convert {\n",
              "      background-color: #3B4455;\n",
              "      fill: #D2E3FC;\n",
              "    }\n",
              "\n",
              "    [theme=dark] .colab-df-convert:hover {\n",
              "      background-color: #434B5C;\n",
              "      box-shadow: 0px 1px 3px 1px rgba(0, 0, 0, 0.15);\n",
              "      filter: drop-shadow(0px 1px 2px rgba(0, 0, 0, 0.3));\n",
              "      fill: #FFFFFF;\n",
              "    }\n",
              "  </style>\n",
              "\n",
              "    <script>\n",
              "      const buttonEl =\n",
              "        document.querySelector('#df-f37ca975-1ec5-4408-9ff5-408c5a8b0b36 button.colab-df-convert');\n",
              "      buttonEl.style.display =\n",
              "        google.colab.kernel.accessAllowed ? 'block' : 'none';\n",
              "\n",
              "      async function convertToInteractive(key) {\n",
              "        const element = document.querySelector('#df-f37ca975-1ec5-4408-9ff5-408c5a8b0b36');\n",
              "        const dataTable =\n",
              "          await google.colab.kernel.invokeFunction('convertToInteractive',\n",
              "                                                    [key], {});\n",
              "        if (!dataTable) return;\n",
              "\n",
              "        const docLinkHtml = 'Like what you see? Visit the ' +\n",
              "          '<a target=\"_blank\" href=https://colab.research.google.com/notebooks/data_table.ipynb>data table notebook</a>'\n",
              "          + ' to learn more about interactive tables.';\n",
              "        element.innerHTML = '';\n",
              "        dataTable['output_type'] = 'display_data';\n",
              "        await google.colab.output.renderOutput(dataTable, element);\n",
              "        const docLink = document.createElement('div');\n",
              "        docLink.innerHTML = docLinkHtml;\n",
              "        element.appendChild(docLink);\n",
              "      }\n",
              "    </script>\n",
              "  </div>\n",
              "\n",
              "\n",
              "<div id=\"df-b403ed6f-4b0c-4700-b13a-75e412950553\">\n",
              "  <button class=\"colab-df-quickchart\" onclick=\"quickchart('df-b403ed6f-4b0c-4700-b13a-75e412950553')\"\n",
              "            title=\"Suggest charts\"\n",
              "            style=\"display:none;\">\n",
              "\n",
              "<svg xmlns=\"http://www.w3.org/2000/svg\" height=\"24px\"viewBox=\"0 0 24 24\"\n",
              "     width=\"24px\">\n",
              "    <g>\n",
              "        <path d=\"M19 3H5c-1.1 0-2 .9-2 2v14c0 1.1.9 2 2 2h14c1.1 0 2-.9 2-2V5c0-1.1-.9-2-2-2zM9 17H7v-7h2v7zm4 0h-2V7h2v10zm4 0h-2v-4h2v4z\"/>\n",
              "    </g>\n",
              "</svg>\n",
              "  </button>\n",
              "\n",
              "<style>\n",
              "  .colab-df-quickchart {\n",
              "      --bg-color: #E8F0FE;\n",
              "      --fill-color: #1967D2;\n",
              "      --hover-bg-color: #E2EBFA;\n",
              "      --hover-fill-color: #174EA6;\n",
              "      --disabled-fill-color: #AAA;\n",
              "      --disabled-bg-color: #DDD;\n",
              "  }\n",
              "\n",
              "  [theme=dark] .colab-df-quickchart {\n",
              "      --bg-color: #3B4455;\n",
              "      --fill-color: #D2E3FC;\n",
              "      --hover-bg-color: #434B5C;\n",
              "      --hover-fill-color: #FFFFFF;\n",
              "      --disabled-bg-color: #3B4455;\n",
              "      --disabled-fill-color: #666;\n",
              "  }\n",
              "\n",
              "  .colab-df-quickchart {\n",
              "    background-color: var(--bg-color);\n",
              "    border: none;\n",
              "    border-radius: 50%;\n",
              "    cursor: pointer;\n",
              "    display: none;\n",
              "    fill: var(--fill-color);\n",
              "    height: 32px;\n",
              "    padding: 0;\n",
              "    width: 32px;\n",
              "  }\n",
              "\n",
              "  .colab-df-quickchart:hover {\n",
              "    background-color: var(--hover-bg-color);\n",
              "    box-shadow: 0 1px 2px rgba(60, 64, 67, 0.3), 0 1px 3px 1px rgba(60, 64, 67, 0.15);\n",
              "    fill: var(--button-hover-fill-color);\n",
              "  }\n",
              "\n",
              "  .colab-df-quickchart-complete:disabled,\n",
              "  .colab-df-quickchart-complete:disabled:hover {\n",
              "    background-color: var(--disabled-bg-color);\n",
              "    fill: var(--disabled-fill-color);\n",
              "    box-shadow: none;\n",
              "  }\n",
              "\n",
              "  .colab-df-spinner {\n",
              "    border: 2px solid var(--fill-color);\n",
              "    border-color: transparent;\n",
              "    border-bottom-color: var(--fill-color);\n",
              "    animation:\n",
              "      spin 1s steps(1) infinite;\n",
              "  }\n",
              "\n",
              "  @keyframes spin {\n",
              "    0% {\n",
              "      border-color: transparent;\n",
              "      border-bottom-color: var(--fill-color);\n",
              "      border-left-color: var(--fill-color);\n",
              "    }\n",
              "    20% {\n",
              "      border-color: transparent;\n",
              "      border-left-color: var(--fill-color);\n",
              "      border-top-color: var(--fill-color);\n",
              "    }\n",
              "    30% {\n",
              "      border-color: transparent;\n",
              "      border-left-color: var(--fill-color);\n",
              "      border-top-color: var(--fill-color);\n",
              "      border-right-color: var(--fill-color);\n",
              "    }\n",
              "    40% {\n",
              "      border-color: transparent;\n",
              "      border-right-color: var(--fill-color);\n",
              "      border-top-color: var(--fill-color);\n",
              "    }\n",
              "    60% {\n",
              "      border-color: transparent;\n",
              "      border-right-color: var(--fill-color);\n",
              "    }\n",
              "    80% {\n",
              "      border-color: transparent;\n",
              "      border-right-color: var(--fill-color);\n",
              "      border-bottom-color: var(--fill-color);\n",
              "    }\n",
              "    90% {\n",
              "      border-color: transparent;\n",
              "      border-bottom-color: var(--fill-color);\n",
              "    }\n",
              "  }\n",
              "</style>\n",
              "\n",
              "  <script>\n",
              "    async function quickchart(key) {\n",
              "      const quickchartButtonEl =\n",
              "        document.querySelector('#' + key + ' button');\n",
              "      quickchartButtonEl.disabled = true;  // To prevent multiple clicks.\n",
              "      quickchartButtonEl.classList.add('colab-df-spinner');\n",
              "      try {\n",
              "        const charts = await google.colab.kernel.invokeFunction(\n",
              "            'suggestCharts', [key], {});\n",
              "      } catch (error) {\n",
              "        console.error('Error during call to suggestCharts:', error);\n",
              "      }\n",
              "      quickchartButtonEl.classList.remove('colab-df-spinner');\n",
              "      quickchartButtonEl.classList.add('colab-df-quickchart-complete');\n",
              "    }\n",
              "    (() => {\n",
              "      let quickchartButtonEl =\n",
              "        document.querySelector('#df-b403ed6f-4b0c-4700-b13a-75e412950553 button');\n",
              "      quickchartButtonEl.style.display =\n",
              "        google.colab.kernel.accessAllowed ? 'block' : 'none';\n",
              "    })();\n",
              "  </script>\n",
              "</div>\n",
              "    </div>\n",
              "  </div>\n"
            ]
          },
          "metadata": {},
          "execution_count": 6
        }
      ],
      "source": [
        "X.describe()"
      ]
    },
    {
      "cell_type": "code",
      "execution_count": 7,
      "metadata": {
        "colab": {
          "base_uri": "https://localhost:8080/"
        },
        "id": "D8VMNx27McjI",
        "outputId": "6d887315-7bec-490f-81a0-48c131f9d4cd",
        "scrolled": true
      },
      "outputs": [
        {
          "output_type": "execute_result",
          "data": {
            "text/plain": [
              "['net profit / total assets',\n",
              " 'total liabilities / total assets',\n",
              " 'working capital / total assets',\n",
              " 'current assets / short-term liabilities',\n",
              " '[(cash + short-term securities + receivables - short-term liabilities) / (operating expenses - depreciation)] * 365',\n",
              " 'retained earnings / total assets',\n",
              " 'EBIT / total assets',\n",
              " 'book value of equity / total liabilities',\n",
              " 'sales / total assets',\n",
              " 'equity / total assets',\n",
              " '(gross profit + extraordinary items + financial expenses) / total assets',\n",
              " 'gross profit / short-term liabilities',\n",
              " '(gross profit + depreciation) / sales',\n",
              " '(gross profit + interest) / total assets',\n",
              " '(total liabilities * 365) / (gross profit + depreciation)',\n",
              " '(gross profit + depreciation) / total liabilities',\n",
              " 'total assets / total liabilities',\n",
              " 'gross profit / total assets',\n",
              " 'gross profit / sales',\n",
              " '(inventory * 365) / sales',\n",
              " 'sales (n) / sales (n-1)',\n",
              " 'profit on operating activities / total assets',\n",
              " 'net profit / sales',\n",
              " 'gross profit (in 3 years) / total assets',\n",
              " '(equity - share capital) / total assets',\n",
              " '(net profit + depreciation) / total liabilities',\n",
              " 'profit on operating activities / financial expenses',\n",
              " 'working capital / fixed assets',\n",
              " 'logarithm of total assets',\n",
              " '(total liabilities - cash) / sales',\n",
              " '(gross profit + interest) / sales',\n",
              " '(current liabilities * 365) / cost of products sold',\n",
              " 'operating expenses / short-term liabilities',\n",
              " 'operating expenses / total liabilities',\n",
              " 'profit on sales / total assets',\n",
              " 'total sales / total assets',\n",
              " 'constant capital / total assets',\n",
              " 'profit on sales / sales',\n",
              " '(current assets - inventory - receivables) / short-term liabilities',\n",
              " 'total liabilities / ((profit on operating activities + depreciation) * (12/365))',\n",
              " 'profit on operating activities / sales',\n",
              " 'rotation receivables + inventory turnover in days',\n",
              " '(receivables * 365) / sales',\n",
              " 'net profit / inventory',\n",
              " '(current assets - inventory) / short-term liabilities',\n",
              " '(inventory * 365) / cost of products sold',\n",
              " 'EBITDA (profit on operating activities - depreciation) / total assets',\n",
              " 'EBITDA (profit on operating activities - depreciation) / sales',\n",
              " 'current assets / total liabilities',\n",
              " 'short-term liabilities / total assets',\n",
              " '(short-term liabilities * 365) / cost of products sold)',\n",
              " 'equity / fixed assets',\n",
              " 'constant capital / fixed assets',\n",
              " 'working capital',\n",
              " '(sales - cost of products sold) / sales',\n",
              " '(current assets - inventory - short-term liabilities) / (sales - gross profit - depreciation)',\n",
              " 'total costs / total sales',\n",
              " 'long-term liabilities / equity',\n",
              " 'sales / inventory',\n",
              " 'sales / receivables',\n",
              " '(short-term liabilities * 365) / sales',\n",
              " 'sales / short-term liabilities',\n",
              " 'sales / fixed assets']"
            ]
          },
          "metadata": {},
          "execution_count": 7
        }
      ],
      "source": [
        "feature_names"
      ]
    },
    {
      "cell_type": "markdown",
      "metadata": {
        "id": "PPuXH6OBMcjI"
      },
      "source": [
        "DataFrame zawiera 64 atrybuty numeryczne o zróżnicowanych rozkładach wartości oraz kolumnę `\"class\"` typu `bytes` z klasami 0 i 1. Wiemy, że mamy do czynienia z klasyfikacją binarną - klasa 0 to brak bankructwa, klasa 1 to bankructwo w ciągu najbliższych 3 lat. Przyjrzyjmy się dokładniej naszym danym.\n",
        "\n",
        "**Zadanie 1 (0.5 punktu)**\n",
        "\n",
        "1. Wyodrębnij klasy jako osobną zmienną typu `pd.Series`, usuwając je z macierzy `X`. Przekonwertuj go na liczby całkowite.\n",
        "2. Narysuj wykres słupkowy (bar plot) częstotliwości obu klas w całym zbiorze. Upewnij się, że na osi X są numery lub nazwy klas, a oś Y ma wartości w procentach."
      ]
    },
    {
      "cell_type": "code",
      "execution_count": 8,
      "metadata": {
        "id": "vix_nPuvMcjJ"
      },
      "outputs": [],
      "source": [
        "# your_code\n",
        "import matplotlib.pyplot as plt\n",
        "y=pd.Series(X.pop('class'))\n",
        "y=y.astype(int)"
      ]
    },
    {
      "cell_type": "code",
      "execution_count": 9,
      "metadata": {
        "colab": {
          "base_uri": "https://localhost:8080/",
          "height": 452
        },
        "id": "33Flp6E_WKTD",
        "outputId": "f46f99aa-86b9-47c9-cc6a-e609b0f7ee20"
      },
      "outputs": [
        {
          "output_type": "execute_result",
          "data": {
            "text/plain": [
              "[]"
            ]
          },
          "metadata": {},
          "execution_count": 9
        },
        {
          "output_type": "display_data",
          "data": {
            "text/plain": [
              "<Figure size 640x480 with 1 Axes>"
            ],
            "image/png": "[encoded data removed]"
          },
          "metadata": {}
        }
      ],
      "source": [
        "counts=y.value_counts()/y.size\n",
        "plt.bar(counts.index, counts)\n",
        "plt.plot()\n"
      ]
    },
    {
      "cell_type": "markdown",
      "metadata": {
        "id": "LwA2_cMxMcjJ"
      },
      "source": [
        "Jak widać, klasa pozytywna jest w znacznej mniejszości, stanowi poniżej 5% zbioru. Taki problem nazywamy **klasyfikacją niezbalansowaną (imbalanced classification)**. Mamy tu **klasę dominującą (majority class)** oraz **klasę mniejszościową (minority class)**. Pechowo prawie zawsze interesuje nas ta druga, bo klasa większościowa jest trywialna. Przykładowo, 99% badanych jest zdrowych, a 1% ma niewykryty nowotwór - z oczywistych przyczyn chcemy wykrywać właśnie sytuację rzadką (problem diagnozy jako klasyfikacji jest zasadniczo zawsze niezbalansowany). W dalszej części laboratorium poznamy szereg konsekwencji tego zjawiska i metody na radzenie sobie z nim.\n",
        "\n",
        "Mamy sporo cech, wszystkie numeryczne. Ciekawe, czy mają wartości brakujące, a jeśli tak, to ile. Można to policzyć, ale wykres jest często czytelniejszy. Pomoże nam tu biblioteka `missingno`. Zaznacza ona w każdej kolumnie wartości brakujące przeciwnym kolorem."
      ]
    },
    {
      "cell_type": "code",
      "execution_count": 10,
      "metadata": {
        "colab": {
          "base_uri": "https://localhost:8080/",
          "height": 433
        },
        "id": "9r_vs7M5McjJ",
        "outputId": "02d47606-7d6b-49a9-ca03-1bca3f0709e5"
      },
      "outputs": [
        {
          "output_type": "execute_result",
          "data": {
            "text/plain": [
              "<Axes: >"
            ]
          },
          "metadata": {},
          "execution_count": 10
        },
        {
          "output_type": "display_data",
          "data": {
            "text/plain": [
              "<Figure size 3000x600 with 2 Axes>"
            ],
            "image/png": "[encoded data removed]"
          },
          "metadata": {}
        }
      ],
      "source": [
        "import missingno as msno\n",
        "\n",
        "msno.matrix(X, labels=True, figsize=(30, 6))"
      ]
    },
    {
      "cell_type": "markdown",
      "metadata": {
        "id": "0sz4DEyvMcjK"
      },
      "source": [
        "Jak widać, cecha 37 ma bardzo dużo wartości brakujących, podczas gdy pozostałe cechy mają raczej niewielką ich liczbę. W takiej sytuacji najlepiej usunąć tę cechę, a pozostałe wartości brakujące **uzupełnić / imputować (impute)**. Typowo wykorzystuje się do tego wartość średnią lub medianę z danej kolumny. Ale uwaga - imputacji dokonuje się dopiero po podziale na zbiór treningowy i testowy! W przeciwnym wypadku wykorzystywalibyśmy dane ze zbioru testowego, co sztucznie zawyżyłoby wyniki. Jest to błąd metodologiczny - **wyciek danych (data leakage)**.\n",
        "\n",
        "Podział na zbiór treningowy i testowy to pierwszy moment, kiedy niezbalansowanie danych nam przeszkadza. Jeżeli zrobimy to czysto losowo, to są spore szanse, że w zbiorze testowym będzie tylko klasa negatywna - w końcu jest jej aż >95%. Dlatego wykorzystuje się **próbkowanie ze stratyfikacją (stratified sampling)**, dzięki któremu proporcje klas w zbiorze przed podziałem oraz obu zbiorach po podziale są takie same.\n",
        "\n",
        "**Zadanie 2 (0.75 punktu)**\n",
        "\n",
        "1. Usuń kolumnę `\"Attr37\"` ze zbioru danych.\n",
        "2. Dokonaj podziału zbioru na treningowy i testowy w proporcjach 80%-20%, z przemieszaniem (`shuffle`), ze stratyfikacją, wykorzystując funkcję `train_test_split` ze Scikit-learn'a.\n",
        "3. Uzupełnij wartości brakujące średnią wartością cechy z pomocą klasy `SimpleImputer`.\n",
        "\n",
        "**Uwaga:**\n",
        "- pamiętaj o uwzględnieniu stałego `random_state=0`, aby wyniki były **reprodukowalne (reproducible)**\n",
        "- `stratify` oczekuje wektora klas\n",
        "- wartości do imputacji trzeba wyestymować na zbiorze treningowym (`.fit()`), a potem zastosować te nauczone wartości na obu podzbiorach (treningowym i testowym)"
      ]
    },
    {
      "cell_type": "code",
      "execution_count": 11,
      "metadata": {
        "id": "pnYE1of3McjK"
      },
      "outputs": [],
      "source": [
        "# your_code\n",
        "from sklearn.model_selection import train_test_split\n",
        "from sklearn.impute import SimpleImputer\n",
        "from sklearn.compose import ColumnTransformer\n",
        "from sklearn.pipeline import Pipeline\n",
        "\n",
        "X = X.drop([\"Attr37\"], axis=\"columns\")\n",
        "X_train, X_test, y_train, y_test = train_test_split(\n",
        "    X, y, test_size=0.2, random_state=0, stratify=y, shuffle=True)\n",
        "\n",
        "column_names=X_train.columns.to_list() #for later\n",
        "\n",
        "median_imputer = SimpleImputer(strategy=\"mean\")\n",
        "\n",
        "column_transformer = ColumnTransformer(transformers=[\n",
        "    (\"imput\", Pipeline(steps=[(\"imputer\", median_imputer)]), X.columns)\n",
        "], verbose_feature_names_out=False)\n",
        "\n",
        "\n",
        "# fit and transform\n",
        "X_train = column_transformer.fit_transform(X_train, y_train)\n",
        "X_test = column_transformer.transform(X_test)"
      ]
    },
    {
      "cell_type": "markdown",
      "metadata": {
        "id": "H-1wNKMzMcjL"
      },
      "source": [
        "## Prosta klasyfikacja"
      ]
    },
    {
      "cell_type": "markdown",
      "metadata": {
        "id": "QqNQJGAKMcjL"
      },
      "source": [
        "Zanim przejdzie się do modeli bardziej złożonych, trzeba najpierw wypróbować coś prostego, żeby mieć punkt odniesienia. Tworzy się dlatego **modele bazowe (baselines)**.\n",
        "\n",
        "W naszym przypadku będzie to **drzewo decyzyjne (decision tree)**. Jest to drzewo binarne z decyzjami if-else, prowadzącymi do klasyfikacji danego przykładu w liściu. Każdy podział w drzewie to pytanie postaci \"Czy wartość cechy X jest większa lub równa Y?\". Trening takiego drzewa to prosty algorytm zachłanny, bardzo przypomina budowę zwykłego drzewa binarnego. W każdym węźle wykonujemy:\n",
        "1. Sprawdź po kolei wszystkie możliwe punkty podziału, czyli każdą (unikalną) wartość każdej cechy, po kolei.\n",
        "2. Dla każdego przypadku podziel zbiór na 2 kawałki: niespełniający warunku (lewe dziecko) i spełniający warunek (prawe dziecko).\n",
        "3. Oblicz jakość podziału według pewnej wybranej funkcji jakości. Im lepiej nasz if/else rozdziela klasy od siebie (im \"czystsze\" są węzły-dzieci), tym wyższa jakość. Innymi słowy, chcemy, żeby do jednego dziecka poszła jedna klasa, a do drugiego druga.\n",
        "4. Wybierz podział o najwyższej jakości.\n",
        "\n",
        "Taki algorytm wykonuje się rekurencyjnie, aż otrzymamy węzeł czysty (pure leaf), czyli taki, w którym są przykłady z tylko jednej klasy. Typowo wykorzystywaną funkcją jakości (kryterium podziału) jest entropia Shannona - im niższa entropia, tym bardziej jednolite są klasy w węźle (czyli wybieramy podział o najniższej entropii).\n",
        "\n",
        "Powyższe wytłumaczenie algorytmu jest oczywiście nieformalne i dość skrótowe. Doskonałe tłumaczenie, z interaktywnymi wizualizacjami, dostępne jest [tutaj](https://mlu-explain.github.io/decision-tree/). W formie filmów - [tutaj](https://www.youtube.com/watch?v=ZVR2Way4nwQ) oraz [tutaj](https://www.youtube.com/watch?v=_L39rN6gz7Y). Dla drzew do regresji - [ten film](https://www.youtube.com/watch?v=g9c66TUylZ4).\n",
        "\n",
        "<img src = https://miro.medium.com/max/1838/1*WyTsLwcAXivFCgNtF0OPqA.png width = \"642\" height = \"451\" >\n",
        "\n",
        "Warto zauważyć, że taka konstrukcja prowadzi zawsze do overfittingu. Otrzymanie liści czystych oznacza, że mamy 100% dokładności na zbiorze treningowym, czyli perfekcyjnie przeuczony klasyfikator. W związku z tym nasze predykcje mają bardzo niski bias, ale bardzo dużą wariancję. Pomimo tego drzewa potrafią dać bardzo przyzwoite wyniki, a w celu ich poprawy można je regularyzować, aby mieć mniej \"rozrośnięte\" drzewo. [Film dla zainteresowanych](https://www.youtube.com/watch?v=D0efHEJsfHo).\n",
        "\n",
        "W tym wypadku AI to naprawdę tylko zbiór if'ów ;)"
      ]
    },
    {
      "cell_type": "markdown",
      "metadata": {
        "id": "jCuPBLcdMcjL"
      },
      "source": [
        "Mając wytrenowany klasyfikator, trzeba oczywiście sprawdzić, jak dobrze on sobie radzi. Tu natrafiamy na kolejny problem z klasyfikacją niezbalansowaną - zwykła celność (accuracy) na pewno nie zadziała! Typowo wykorzystuje się AUC, nazywane też AUROC (Area Under Receiver Operating Characteristic), bo metryka ta \"widzi\" i uwzględnia niezbalansowanie klas. Wymaga ona przekazania prawdopodobieństwa klasy pozytywnej, a nie tylko binarnej decyzji.\n",
        "\n",
        "Bardzo dobre i bardziej szczegółowe wytłumaczenie, z interktywnymi wizualizacjami, można znaleć [tutaj](https://mlu-explain.github.io/roc-auc/). Dla preferujących filmy - [tutaj](https://www.youtube.com/watch?v=4jRBRDbJemM).\n",
        "\n",
        "Co ważne, z definicji AUROC, trzeba tam użyć prawdopodobieństw klasy pozytywnej (klasy 1). W Scikit-learn'ie zwraca je metoda `.predict_proba()`, która w kolejnych kolumnach zwraca prawdopodobieństwa poszczególnych klas."
      ]
    },
    {
      "cell_type": "markdown",
      "metadata": {
        "id": "1eaM-E06McjM"
      },
      "source": [
        "**Zadanie 3 (0.75 punktu)**\n",
        "\n",
        "1. Wytrenuj klasyfikator drzewa decyzyjnego (klasa `DecisionTreeClassifier`). Użyj entropii jako kryterium podziału.\n",
        "2. Oblicz i wypisz AUROC na zbiorze testowym dla drzewa decyzyjnego (funkcja `roc_auc_score`).\n",
        "3. Skomentuj wynik - czy twoim zdaniem osiągnięty AUROC to dużo czy mało, biorąc pod uwagę możliwy zakres wartości tej metryki?\n",
        "\n",
        "**Uwaga:**\n",
        "- pamiętaj o użyciu stałego `random_state=0`"
      ]
    },
    {
      "cell_type": "code",
      "execution_count": 12,
      "metadata": {
        "colab": {
          "base_uri": "https://localhost:8080/"
        },
        "id": "KRzzwJ-aMcjM",
        "outputId": "9e06e247-752b-4675-d30a-fd592a5977dd"
      },
      "outputs": [
        {
          "output_type": "stream",
          "name": "stdout",
          "text": [
            "AUROC train: 1.0\n",
            "AUROC test: 0.7266899766899767\n"
          ]
        }
      ],
      "source": [
        "# your_code\n",
        "from sklearn.tree import DecisionTreeClassifier\n",
        "from sklearn.metrics import roc_auc_score\n",
        "\n",
        "clf_tree = DecisionTreeClassifier(random_state=0, criterion=\"entropy\")\n",
        "clf_tree.fit(X_train, y_train)\n",
        "y_pred_train=clf_tree.predict_proba(X_train)[:, 1]\n",
        "y_pred_test=clf_tree.predict_proba(X_test)[:, 1]\n",
        "auroc_train=roc_auc_score(y_train, y_pred_train)\n",
        "auroc_test=roc_auc_score(y_test, y_pred_test)\n",
        "print(f\"AUROC train: {auroc_train}\")\n",
        "print(f\"AUROC test: {auroc_test}\")"
      ]
    },
    {
      "cell_type": "markdown",
      "metadata": {
        "id": "xhLYgh6PMcjM"
      },
      "source": [
        "// skomentuj tutaj \\\n",
        "\\\n",
        "Model klasyfikuje dobrze w więcej niż 7 przypadkach na 10, co jest dość zadowalające biorąc pod uwagę, że zbiór jest niezbalansowany. Domyślam się jednak, że w wielu przypadkach nie jest to wynik wystarczający."
      ]
    },
    {
      "cell_type": "markdown",
      "metadata": {
        "id": "hRvgdZfRMcjN"
      },
      "source": [
        "## Uczenie zespołowe, bagging, lasy losowe"
      ]
    },
    {
      "cell_type": "markdown",
      "metadata": {
        "id": "9AnIbcR_McjN"
      },
      "source": [
        "Bardzo często wiele klasyfikatorów działających razem daje lepsze wyniki niż pojedynczy klasyfikator. Takie podejście nazywa się **uczeniem zespołowym (ensemble learning)**. Istnieje wiele różnych podejść do tworzenia takich klasyfikatorów złożonych (ensemble classifiers).\n",
        "\n",
        "Podstawową metodą jest **bagging**:\n",
        "1. Wylosuj N (np. 100, 500, ...) próbek boostrapowych (boostrap sample) ze zbioru treningowego. Próbka boostrapowa to po prostu losowanie ze zwracaniem, gdzie dla wejściowego zbioru z M wierszami losujemy M próbek. Będą tam powtórzenia, średnio nawet 1/3, ale się tym nie przejmujemy.\n",
        "2. Wytrenuj klasyfikator bazowy (base classifier) na każdej z próbek boostrapowych.\n",
        "3. Stwórz klasyfikator złożony poprzez uśrednienie predykcji każdego z klasyfikatorów bazowych.\n",
        "\n",
        "<img src = https://upload.wikimedia.org/wikipedia/commons/thumb/c/c8/Ensemble_Bagging.svg/440px-Ensemble_Bagging.svg.png width = \"440\" height = \"248\" >\n",
        "\n",
        "Typowo klasyfikatory bazowe są bardzo proste, żeby można było szybko wytrenować ich dużą liczbę. Prawie zawsze używa się do tego drzew decyzyjnych. Dla klasyfikacji uśrednienie wyników polega na głosowaniu - dla nowej próbki każdy klasyfikator bazowy ją klasyfikuje, sumuje się głosy na każdą klasę i zwraca najbardziej popularną decyzję.\n",
        "\n",
        "Taki sposób ensemblingu zmniejsza wariancję klasyfikatora. Intuicyjnie, skoro coś uśredniamy, to siłą rzeczy będzie mniej rozrzucone, bo dużo ciężej będzie osiągnąć jakąś skrajność. Redukuje to też overfitting.\n",
        "\n",
        "**Lasy losowe (Random Forests)** to ulepszenie baggingu. Zaobserwowano, że pomimo losowania próbek boostrapowych, w baggingu poszczególne drzewa są do siebie bardzo podobne (są skorelowane), używają podobnych cech ze zbioru. My natomiast chcemy zróżnicowania, żeby mieć niski bias - redukcją wariancji zajmuje się uśrednianie. Dlatego używa się metody losowej podprzestrzeni (random subspace method) - przy każdym podziale drzewa losuje się tylko pewien podzbiór cech, których możemy użyć do tego podziału. Typowo jest to pierwiastek kwadratowy z ogólnej liczby cech.\n",
        "\n",
        "Zarówno bagging, jak i lasy losowe mają dodatkowo bardzo przyjemną własność - są mało czułe na hiperparametry, szczególnie na liczbę drzew. W praktyce wystarczy ustawić 500 czy 1000 drzew i będzie dobrze działać. Dalsze dostrajanie hiperparametrów może jeszcze trochę poprawić wyniki, ale nie tak bardzo, jak przy innych klasyfikatorach. Jest to zatem doskonały wybór domyślny, kiedy nie wiemy, jakiego klasyfikatora użyć.\n",
        "\n",
        "Dodatkowo jest to problem **embarassingly parallel** - drzewa można trenować w 100% równolegle, dzięki czemu jest to dodatkowo wydajna obliczeniowo metoda.\n",
        "\n",
        "Głębsze wytłumaczenie, z interaktywnymi wizualizacjami, można znaleźć [tutaj](https://mlu-explain.github.io/random-forest/). Dobrze tłumaczy je też [ta seria filmów](https://www.youtube.com/watch?v=J4Wdy0Wc_xQ&t=480s).\n",
        "\n",
        "**Zadanie 4 (0.5 punktu)**\n",
        "\n",
        "1. Wytrenuj klasyfikator Random Forest (klasa `RandomForestClassifier`). Użyj 500 drzew i entropii jako kryterium podziału.\n",
        "2. Sprawdź AUROC na zbiorze testowym.\n",
        "3. Skomentuj wynik w odniesieniu do drzewa decyzyjnego.\n",
        "\n",
        "**Uwaga:** pamiętaj o ustawieniu `random_state=0`. Dla przyspieszenia ustaw `n_jobs=-1` (użyje tylu procesów, ile masz dostępnych rdzeni procesora)."
      ]
    },
    {
      "cell_type": "code",
      "execution_count": 13,
      "metadata": {
        "colab": {
          "base_uri": "https://localhost:8080/"
        },
        "id": "3aJ3B10lMcjN",
        "outputId": "54bfad8e-e876-4957-fa53-edceff74e97a"
      },
      "outputs": [
        {
          "output_type": "stream",
          "name": "stdout",
          "text": [
            "AUROC train: 1.0\n",
            "AUROC test: 0.8994111948657404\n"
          ]
        }
      ],
      "source": [
        "# your_code\n",
        "from sklearn.ensemble import RandomForestClassifier\n",
        "\n",
        "clf_forest = RandomForestClassifier(500, criterion=\"entropy\", random_state=0, n_jobs=-1)\n",
        "clf_forest.fit(X_train, y_train)\n",
        "\n",
        "y_pred_train=clf_forest.predict_proba(X_train)[:, 1]\n",
        "y_pred_test=clf_forest.predict_proba(X_test)[:, 1]\n",
        "auroc_train=roc_auc_score(y_train, y_pred_train)\n",
        "auroc_test=roc_auc_score(y_test, y_pred_test)\n",
        "print(f\"AUROC train: {auroc_train}\")\n",
        "print(f\"AUROC test: {auroc_test}\")"
      ]
    },
    {
      "cell_type": "markdown",
      "metadata": {
        "id": "FF93ui04McjO"
      },
      "source": [
        "// skomentuj tutaj \\\n",
        "\\\n",
        "Otrzymany wynik jest znacznie lepszy od poprzedniego dla pojedynczego drzewa decyzyjnego. Dopasowanie na tym poziomie jest bardzo zadowalające."
      ]
    },
    {
      "cell_type": "markdown",
      "metadata": {
        "id": "cYBmMxsyMcjO"
      },
      "source": [
        "Jak zobaczymy poniżej, wynik ten możemy jednak jeszcze ulepszyć!"
      ]
    },
    {
      "cell_type": "markdown",
      "metadata": {
        "id": "TWNF-P_IMcjO"
      },
      "source": [
        "## Oversampling, SMOTE"
      ]
    },
    {
      "cell_type": "markdown",
      "metadata": {
        "id": "9ILagHFxMcjO"
      },
      "source": [
        "W przypadku zbiorów niezbalansowanych można dokonać **balansowania (balancing)** zbioru. Są tutaj 2 metody:\n",
        "- **undersampling**: usunięcie przykładów z klasy dominującej\n",
        "- **oversampling**: wygenerowanie dodatkowych przykładów z klasy mniejszościowej\n",
        "\n",
        "Undersampling działa dobrze, kiedy niezbalansowanie jest niewielkie, a zbiór jest duży (możemy sobie pozwolić na usunięcie jego części). Oversampling typowo daje lepsze wyniki, istnieją dla niego bardzo efektywne algorytmy. W przypadku bardzo dużego niezbalansowania można zrobić oba.\n",
        "\n",
        "Typowym algorytmem oversamplingu jest **SMOTE (Synthetic Minority Oversampling TEchnique)**. Działa on następująco:\n",
        "1. Idź po kolei po przykładach z klasy mniejszościowej\n",
        "2. Znajdź `k` najbliższych przykładów dla próbki, typowo `k=5`\n",
        "3. Wylosuj tylu sąsiadów, ile trzeba do oversamplingu, np. jeżeli chcemy zwiększyć klasę mniejszościową 3 razy (o 200%), to wylosuj 2 z 5 sąsiadów\n",
        "4. Dla każdego z wylosowanych sąsiadów wylosuj punkt na linii prostej między próbką a tym sąsiadem. Dodaj ten punkt jako nową próbkę do zbioru\n",
        "\n",
        "<img src = https://miro.medium.com/max/734/1*yRumRhn89acByodBz0H7oA.png >\n",
        "\n",
        "Taka technika generuje przykłady bardzo podobne do prawdziwych, więc nie zaburza zbioru, a jednocześnie pomaga klasyfikatorom, bo \"zagęszcza\" przestrzeń, w której znajduje się klasa pozytywna.\n",
        "\n",
        "Algorytm SMOTE, jego warianty i inne algorytmy dla problemów niezbalansowanych implementuje biblioteka Imbalanced-learn.\n",
        "\n",
        "**Zadanie 5 (1 punkt)**\n",
        "\n",
        "Użyj SMOTE do zbalansowania zbioru treningowego (nie używa się go na zbiorze testowym!) (klasa `SMOTE`). Wytrenuj drzewo decyzyjne oraz las losowy na zbalansowanym zbiorze, użyj tych samych argumentów co wcześniej. Pamiętaj o użyciu wszędzie stałego `random_state=0` i `n_jobs=-1`. Skomentuj wynik."
      ]
    },
    {
      "cell_type": "code",
      "execution_count": 14,
      "metadata": {
        "colab": {
          "base_uri": "https://localhost:8080/"
        },
        "id": "ag7sH0v2McjP",
        "outputId": "12f3bcac-45cd-43bf-f9e1-a73437d730a6"
      },
      "outputs": [
        {
          "output_type": "stream",
          "name": "stderr",
          "text": [
            "/usr/local/lib/python3.10/dist-packages/imblearn/over_sampling/_smote/base.py:336: FutureWarning: The parameter `n_jobs` has been deprecated in 0.10 and will be removed in 0.12. You can pass an nearest neighbors estimator where `n_jobs` is already set instead.\n",
            "  warnings.warn(\n"
          ]
        }
      ],
      "source": [
        "# your_code\n",
        "from imblearn.over_sampling import SMOTE\n",
        "sm = SMOTE(random_state=0, n_jobs=-1)\n",
        "X_train, y_train = sm.fit_resample(X_train, y_train)"
      ]
    },
    {
      "cell_type": "code",
      "execution_count": 15,
      "metadata": {
        "colab": {
          "base_uri": "https://localhost:8080/"
        },
        "id": "3cNFoMaizNE2",
        "outputId": "6ce30c7f-f152-46e0-96ee-ba90ca4ab647"
      },
      "outputs": [
        {
          "output_type": "stream",
          "name": "stdout",
          "text": [
            "DecisionTreeClassifier after SMOTE\n",
            "AUROC train: 1.0\n",
            "AUROC test: 0.70995670995671\n"
          ]
        }
      ],
      "source": [
        "clf_tree2 = DecisionTreeClassifier(random_state=0, criterion=\"entropy\")\n",
        "clf_tree2.fit(X_train, y_train)\n",
        "\n",
        "y_pred_train=clf_tree2.predict_proba(X_train)[:, 1]\n",
        "y_pred_test=clf_tree2.predict_proba(X_test)[:, 1]\n",
        "auroc_train=roc_auc_score(y_train, y_pred_train)\n",
        "auroc_test=roc_auc_score(y_test, y_pred_test)\n",
        "print(\"DecisionTreeClassifier after SMOTE\")\n",
        "print(f\"AUROC train: {auroc_train}\")\n",
        "print(f\"AUROC test: {auroc_test}\")"
      ]
    },
    {
      "cell_type": "code",
      "execution_count": 16,
      "metadata": {
        "colab": {
          "base_uri": "https://localhost:8080/"
        },
        "id": "7A-O2CeuzQhl",
        "outputId": "a29f7116-c1cd-47c3-89ed-d3b0888d580f"
      },
      "outputs": [
        {
          "output_type": "stream",
          "name": "stdout",
          "text": [
            "RandomForestClassifier after SMOTE\n",
            "AUROC train: 1.0\n",
            "AUROC test: 0.9047644274917003\n"
          ]
        }
      ],
      "source": [
        "clf_forest2 = RandomForestClassifier(500, criterion=\"entropy\", random_state=0, n_jobs=-1)\n",
        "clf_forest2.fit(X_train, y_train)\n",
        "\n",
        "y_pred_train=clf_forest2.predict_proba(X_train)[:, 1]\n",
        "y_pred_test=clf_forest2.predict_proba(X_test)[:, 1]\n",
        "auroc_train=roc_auc_score(y_train, y_pred_train)\n",
        "auroc_test=roc_auc_score(y_test, y_pred_test)\n",
        "print(\"RandomForestClassifier after SMOTE\")\n",
        "print(f\"AUROC train: {auroc_train}\")\n",
        "print(f\"AUROC test: {auroc_test}\")"
      ]
    },
    {
      "cell_type": "markdown",
      "metadata": {
        "id": "XEtrXTiFMcjP"
      },
      "source": [
        "// skomentuj tutaj \\\n",
        "\\\n",
        "Jak widać zastosowanie zagęszczenia przestrzeni klasy pozytywnej polepszyło wyniki. Wynik otrzymany dla Random Forest jest zdecydowanie zadawalający."
      ]
    },
    {
      "cell_type": "markdown",
      "metadata": {
        "id": "IGN9Btk0McjP"
      },
      "source": [
        "W dalszej części laboratorium używaj zbioru po zastosowaniu SMOTE do treningu klasyfikatorów."
      ]
    },
    {
      "cell_type": "markdown",
      "metadata": {
        "id": "a0o6Tc0YMcjQ"
      },
      "source": [
        "## Dostrajanie (tuning) hiperparametrów"
      ]
    },
    {
      "cell_type": "markdown",
      "metadata": {
        "id": "EuJFngZ4McjQ"
      },
      "source": [
        "Lasy losowe są stosunkowo mało czułe na dobór hiperparametrów - i dobrze, bo mają ich dość dużo. Można zawsze jednak spróbować to zrobić, a w szczególności najważniejszy jest parametr `max_features`, oznaczający, ile cech losować przy każdym podziale drzewa. Typowo sprawdza się wartości z zakresu `[0.1, 0.5]`.\n",
        "\n",
        "W kwestii szybkości, kiedy dostrajamy hiperparametry, to mniej oczywiste jest, jakiego `n_jobs` użyć. Z jednej strony klasyfikator może być trenowany na wielu procesach, a z drugiej można trenować wiele klasyfikatorów na różnych zestawach hiperparametrów równolegle. Jeżeli nasz klasyfikator bardzo dobrze się uwspółbieżnia (jak Random Forest), to można dać mu nawet wszystkie rdzenie, a za to wypróbowywać kolejne zestawy hiperparametrów sekwencyjnie. Warto ustawić parametr `verbose` na 2 lub więcej, żeby dostać logi podczas długiego treningu i mierzyć czas wykonania. W praktyce ustawia się to metodą prób i błędów.\n",
        "\n",
        "**Zadanie 6 (1 punkt)**\n",
        "\n",
        "1. Dobierz wartość hiperparametru `max_features`:\n",
        "   - użyj grid search z 5 foldami\n",
        "   - wypróbuj wartości `[0.1, 0.2, 0.3, 0.4, 0.5]`\n",
        "   - wybierz model o najwyzszym AUROC (argument `scoring`)\n",
        "2. Sprawdź, jaka była optymalna wartość `max_features`. Jest to atrybut wytrenowanego `GridSearchCV`.\n",
        "3. Skomentuj wynik. Czy warto było poświęcić czas i zasoby na tę procedurę?\n",
        "\n",
        "**Uwaga:**\n",
        "- pamiętaj, żeby jako estymatora przekazanego do grid search'a użyć instancji Random Forest, która ma już ustawione `random_state=0` i `n_jobs`"
      ]
    },
    {
      "cell_type": "code",
      "execution_count": 17,
      "metadata": {
        "colab": {
          "base_uri": "https://localhost:8080/",
          "height": 175
        },
        "id": "z-9tbJOlMcjQ",
        "scrolled": true,
        "outputId": "22b2f7d6-1869-4cc2-f7d2-62977b4ce8c2"
      },
      "outputs": [
        {
          "output_type": "stream",
          "name": "stdout",
          "text": [
            "Fitting 5 folds for each of 5 candidates, totalling 25 fits\n"
          ]
        },
        {
          "output_type": "execute_result",
          "data": {
            "text/plain": [
              "GridSearchCV(estimator=RandomForestClassifier(criterion='entropy',\n",
              "                                              n_estimators=500, n_jobs=-1,\n",
              "                                              random_state=0),\n",
              "             n_jobs=-1, param_grid={'max_features': [0.1, 0.2, 0.3, 0.4, 0.5]},\n",
              "             scoring='roc_auc', verbose=2)"
            ],
            "text/html": [
              "<style>#sk-container-id-1 {color: black;background-color: white;}#sk-container-id-1 pre{padding: 0;}#sk-container-id-1 div.sk-toggleable {background-color: white;}#sk-container-id-1 label.sk-toggleable__label {cursor: pointer;display: block;width: 100%;margin-bottom: 0;padding: 0.3em;box-sizing: border-box;text-align: center;}#sk-container-id-1 label.sk-toggleable__label-arrow:before {content: \"▸\";float: left;margin-right: 0.25em;color: #696969;}#sk-container-id-1 label.sk-toggleable__label-arrow:hover:before {color: black;}#sk-container-id-1 div.sk-estimator:hover label.sk-toggleable__label-arrow:before {color: black;}#sk-container-id-1 div.sk-toggleable__content {max-height: 0;max-width: 0;overflow: hidden;text-align: left;background-color: #f0f8ff;}#sk-container-id-1 div.sk-toggleable__content pre {margin: 0.2em;color: black;border-radius: 0.25em;background-color: #f0f8ff;}#sk-container-id-1 input.sk-toggleable__control:checked~div.sk-toggleable__content {max-height: 200px;max-width: 100%;overflow: auto;}#sk-container-id-1 input.sk-toggleable__control:checked~label.sk-toggleable__label-arrow:before {content: \"▾\";}#sk-container-id-1 div.sk-estimator input.sk-toggleable__control:checked~label.sk-toggleable__label {background-color: #d4ebff;}#sk-container-id-1 div.sk-label input.sk-toggleable__control:checked~label.sk-toggleable__label {background-color: #d4ebff;}#sk-container-id-1 input.sk-hidden--visually {border: 0;clip: rect(1px 1px 1px 1px);clip: rect(1px, 1px, 1px, 1px);height: 1px;margin: -1px;overflow: hidden;padding: 0;position: absolute;width: 1px;}#sk-container-id-1 div.sk-estimator {font-family: monospace;background-color: #f0f8ff;border: 1px dotted black;border-radius: 0.25em;box-sizing: border-box;margin-bottom: 0.5em;}#sk-container-id-1 div.sk-estimator:hover {background-color: #d4ebff;}#sk-container-id-1 div.sk-parallel-item::after {content: \"\";width: 100%;border-bottom: 1px solid gray;flex-grow: 1;}#sk-container-id-1 div.sk-label:hover label.sk-toggleable__label {background-color: #d4ebff;}#sk-container-id-1 div.sk-serial::before {content: \"\";position: absolute;border-left: 1px solid gray;box-sizing: border-box;top: 0;bottom: 0;left: 50%;z-index: 0;}#sk-container-id-1 div.sk-serial {display: flex;flex-direction: column;align-items: center;background-color: white;padding-right: 0.2em;padding-left: 0.2em;position: relative;}#sk-container-id-1 div.sk-item {position: relative;z-index: 1;}#sk-container-id-1 div.sk-parallel {display: flex;align-items: stretch;justify-content: center;background-color: white;position: relative;}#sk-container-id-1 div.sk-item::before, #sk-container-id-1 div.sk-parallel-item::before {content: \"\";position: absolute;border-left: 1px solid gray;box-sizing: border-box;top: 0;bottom: 0;left: 50%;z-index: -1;}#sk-container-id-1 div.sk-parallel-item {display: flex;flex-direction: column;z-index: 1;position: relative;background-color: white;}#sk-container-id-1 div.sk-parallel-item:first-child::after {align-self: flex-end;width: 50%;}#sk-container-id-1 div.sk-parallel-item:last-child::after {align-self: flex-start;width: 50%;}#sk-container-id-1 div.sk-parallel-item:only-child::after {width: 0;}#sk-container-id-1 div.sk-dashed-wrapped {border: 1px dashed gray;margin: 0 0.4em 0.5em 0.4em;box-sizing: border-box;padding-bottom: 0.4em;background-color: white;}#sk-container-id-1 div.sk-label label {font-family: monospace;font-weight: bold;display: inline-block;line-height: 1.2em;}#sk-container-id-1 div.sk-label-container {text-align: center;}#sk-container-id-1 div.sk-container {/* jupyter's `normalize.less` sets `[hidden] { display: none; }` but bootstrap.min.css set `[hidden] { display: none !important; }` so we also need the `!important` here to be able to override the default hidden behavior on the sphinx rendered scikit-learn.org. See: https://github.com/scikit-learn/scikit-learn/issues/21755 */display: inline-block !important;position: relative;}#sk-container-id-1 div.sk-text-repr-fallback {display: none;}</style><div id=\"sk-container-id-1\" class=\"sk-top-container\"><div class=\"sk-text-repr-fallback\"><pre>GridSearchCV(estimator=RandomForestClassifier(criterion=&#x27;entropy&#x27;,\n",
              "                                              n_estimators=500, n_jobs=-1,\n",
              "                                              random_state=0),\n",
              "             n_jobs=-1, param_grid={&#x27;max_features&#x27;: [0.1, 0.2, 0.3, 0.4, 0.5]},\n",
              "             scoring=&#x27;roc_auc&#x27;, verbose=2)</pre><b>In a Jupyter environment, please rerun this cell to show the HTML representation or trust the notebook. <br />On GitHub, the HTML representation is unable to render, please try loading this page with nbviewer.org.</b></div><div class=\"sk-container\" hidden><div class=\"sk-item sk-dashed-wrapped\"><div class=\"sk-label-container\"><div class=\"sk-label sk-toggleable\"><input class=\"sk-toggleable__control sk-hidden--visually\" id=\"sk-estimator-id-1\" type=\"checkbox\" ><label for=\"sk-estimator-id-1\" class=\"sk-toggleable__label sk-toggleable__label-arrow\">GridSearchCV</label><div class=\"sk-toggleable__content\"><pre>GridSearchCV(estimator=RandomForestClassifier(criterion=&#x27;entropy&#x27;,\n",
              "                                              n_estimators=500, n_jobs=-1,\n",
              "                                              random_state=0),\n",
              "             n_jobs=-1, param_grid={&#x27;max_features&#x27;: [0.1, 0.2, 0.3, 0.4, 0.5]},\n",
              "             scoring=&#x27;roc_auc&#x27;, verbose=2)</pre></div></div></div><div class=\"sk-parallel\"><div class=\"sk-parallel-item\"><div class=\"sk-item\"><div class=\"sk-label-container\"><div class=\"sk-label sk-toggleable\"><input class=\"sk-toggleable__control sk-hidden--visually\" id=\"sk-estimator-id-2\" type=\"checkbox\" ><label for=\"sk-estimator-id-2\" class=\"sk-toggleable__label sk-toggleable__label-arrow\">estimator: RandomForestClassifier</label><div class=\"sk-toggleable__content\"><pre>RandomForestClassifier(criterion=&#x27;entropy&#x27;, n_estimators=500, n_jobs=-1,\n",
              "                       random_state=0)</pre></div></div></div><div class=\"sk-serial\"><div class=\"sk-item\"><div class=\"sk-estimator sk-toggleable\"><input class=\"sk-toggleable__control sk-hidden--visually\" id=\"sk-estimator-id-3\" type=\"checkbox\" ><label for=\"sk-estimator-id-3\" class=\"sk-toggleable__label sk-toggleable__label-arrow\">RandomForestClassifier</label><div class=\"sk-toggleable__content\"><pre>RandomForestClassifier(criterion=&#x27;entropy&#x27;, n_estimators=500, n_jobs=-1,\n",
              "                       random_state=0)</pre></div></div></div></div></div></div></div></div></div></div>"
            ]
          },
          "metadata": {},
          "execution_count": 17
        }
      ],
      "source": [
        "# your_code\n",
        "from sklearn.model_selection import GridSearchCV\n",
        "\n",
        "parameters = {'max_features':[0.1, 0.2, 0.3, 0.4, 0.5]}\n",
        "rfc = RandomForestClassifier(500, criterion=\"entropy\", random_state=0, n_jobs=-1)\n",
        "clf_forest_tuned = GridSearchCV(estimator=rfc, param_grid=parameters, scoring=\"roc_auc\", verbose=2, n_jobs=-1)\n",
        "clf_forest_tuned.fit(X_train, y_train)"
      ]
    },
    {
      "cell_type": "code",
      "execution_count": 18,
      "metadata": {
        "colab": {
          "base_uri": "https://localhost:8080/"
        },
        "id": "BNG-1zGL6QLv",
        "outputId": "5b41e6eb-84de-4adf-b52a-879259c7637c"
      },
      "outputs": [
        {
          "output_type": "execute_result",
          "data": {
            "text/plain": [
              "0.2"
            ]
          },
          "metadata": {},
          "execution_count": 18
        }
      ],
      "source": [
        "clf_forest_tuned.best_params_[\"max_features\"]"
      ]
    },
    {
      "cell_type": "code",
      "execution_count": 19,
      "metadata": {
        "colab": {
          "base_uri": "https://localhost:8080/"
        },
        "id": "4bNj-Lli6RIB",
        "outputId": "9e0bae72-b792-4d76-fbac-2d88020c1552"
      },
      "outputs": [
        {
          "output_type": "stream",
          "name": "stdout",
          "text": [
            "RandomForestClassifier after SMOTE\n",
            "AUROC train: 1.0\n",
            "AUROC test: 0.9122619804437986\n"
          ]
        }
      ],
      "source": [
        "y_pred_train=clf_forest_tuned.predict_proba(X_train)[:, 1]\n",
        "y_pred_test=clf_forest_tuned.predict_proba(X_test)[:, 1]\n",
        "auroc_train=roc_auc_score(y_train, y_pred_train)\n",
        "auroc_test=roc_auc_score(y_test, y_pred_test)\n",
        "print(\"RandomForestClassifier after SMOTE\")\n",
        "print(f\"AUROC train: {auroc_train}\")\n",
        "print(f\"AUROC test: {auroc_test}\")"
      ]
    },
    {
      "cell_type": "markdown",
      "metadata": {
        "id": "_C6obrWxMcjn"
      },
      "source": [
        "// skomentuj tutaj \\\n",
        "\\\n",
        "Kosztem sporej ilości czasu otrzymaliśmy niewielkie polepszenie wyniku. To czy było warto zależy od posiadanych zasobów i tego czy zależy nam na każdym punkcie procentowym metryki określającej jakość modelu. W tym przypadku jest to niecały jeden punkt procentowy i moim zdaniem nie koszt przewyższał zysk."
      ]
    },
    {
      "cell_type": "markdown",
      "metadata": {
        "id": "-cuBh5kPMcjo"
      },
      "source": [
        "W praktycznych zastosowaniach data scientist wedle własnego uznana, doświadczenia, dostępnego czasu i zasobów wybiera, czy dostrajać hiperparametry i w jak szerokim zakresie. Dla Random Forest na szczęście często może nie być znaczącej potrzeby, i za to go lubimy :)"
      ]
    },
    {
      "cell_type": "markdown",
      "metadata": {
        "id": "dfiD10CYMcjo"
      },
      "source": [
        "**Random Forest - podsumowanie**\n",
        "\n",
        "1. Model oparty o uczenie zespołowe\n",
        "2. Kluczowe elementy:\n",
        "   - bagging: uczenie wielu klasyfikatorów na próbkach boostrapowych\n",
        "   - metoda losowej podprzestrzeni: losujemy podzbiór cech do każdego podziału drzewa\n",
        "   - uśredniamy głosy klasyfikatorów\n",
        "3. Dość odporny na overfitting, zmniejsza wariancję błędu dzięki uśrednianiu\n",
        "4. Mało czuły na hiperparametry\n",
        "5. Przeciętnie bardzo dobre wyniki, doskonały wybór domyślny przy wybieraniu algorytmu klasyfikacji"
      ]
    },
    {
      "cell_type": "markdown",
      "metadata": {
        "id": "a6lPHEsOMcjp"
      },
      "source": [
        "## Boosting"
      ]
    },
    {
      "cell_type": "markdown",
      "metadata": {
        "id": "fs6BNQHyMcjp"
      },
      "source": [
        "Drugą bardzo ważną grupą algorytmów ensemblingu jest **boosting**, też oparty o drzewa decyzyjne. O ile Random Forest trenował wszystkie klasyfikatory bazowe równolegle i je uśredniał, o tyle boosting robi to sekwencyjnie. Drzewa te uczą się na całym zbiorze, nie na próbkach boostrapowych. Idea jest następująca: trenujemy drzewo decyzyjne, radzi sobie przeciętnie i popełnia błędy na częsci przykładów treningowych. Dokładamy kolejne, ale znające błędy swojego poprzednika, dzięki czemu może to uwzględnić i je poprawić. W związku z tym \"boostuje\" się dzięki wiedzy od poprzednika. Dokładamy kolejne drzewa zgodnie z tą samą zasadą.\n",
        "\n",
        "Jak uczyć się na błędach poprzednika? Jest to pewna **funkcja kosztu** (błędu), którą chcemy zminimalizować. Zakłada się jakąś jej konkretną postać, np. squared error dla regresji, albo logistic loss dla klasyfikacji. Później wykorzystuje się spadek wzdłuż gradientu (gradient descent), aby nauczyć się, w jakim kierunku powinny optymalizować kolejne drzewa, żeby zminimalizować błędy poprzednika. Jest to konkretnie **gradient boosting**, absolutnie najpopularniejsza forma boostingu, i jeden z najpopularniejszych i osiągających najlepsze wyniki algorytmów ML.\n",
        "\n",
        "Tyle co do intuicji. Ogólny algorytm gradient boostingu jest trochę bardziej skomplikowany. Bardzo dobrze i krok po kroku tłumaczy go [ta seria filmów na YT](https://www.youtube.com/watch?v=3CC4N4z3GJc). Szczególnie ważne implementacje gradient boostingu to **XGBoost (Extreme Gradient Boosting)** oraz **LightGBM (Light Gradient Boosting Machine)**. XGBoost był prawdziwym przełomem w ML, uzyskując doskonałe wyniki i bardzo dobrze się skalując - był wykorzystany w CERNie do wykrywania cząstki Higgsa w zbiorze z pomiarów LHC mającym 10 milionów próbek. Jego implementacja jest dość złożona, ale dobrze tłumaczy ją [inna seria filmików na YT](https://www.youtube.com/watch?v=OtD8wVaFm6E).\n",
        "\n",
        "![](xgboost.png)\n",
        "\n",
        "Obecnie najczęściej wykorzystuje się LightGBM. Został stworzony przez Microsoft na podstawie doświadczeń z XGBoostem. Został jeszcze bardziej ulepszony i przyspieszony, ale różnice są głównie implementacyjne. Różnice dobrze tłumaczy [ta prezentacja z konferencji PyData](https://www.youtube.com/watch?v=5CWwwtEM2TA) oraz [prezentacja Microsoftu](https://www.youtube.com/watch?v=5nKSMXBFhes). Dla zainteresowanych - [praktyczne aspekty LightGBM](https://www.kaggle.com/code/prashant111/lightgbm-classifier-in-python/notebook).\n",
        "\n",
        "**Zadanie 7 (0.5 punktu)**\n",
        "\n",
        "1. Wytrenuj klasyfikator LightGBM (klasa `LGBMClassifier`). Przekaż `importance_type=\"gain\"` - przyda nam się to za chwilę.\n",
        "2. Sprawdź AUROC na zbiorze testowym.\n",
        "3. Skomentuj wynik w odniesieniu do wcześniejszych algorytmów.\n",
        "\n",
        "Pamiętaj o `random_state` i `n_jobs`."
      ]
    },
    {
      "cell_type": "code",
      "execution_count": 20,
      "metadata": {
        "colab": {
          "base_uri": "https://localhost:8080/"
        },
        "id": "ENCpVjDjMcjp",
        "outputId": "0c80f49b-cf16-4050-d3c4-1163771ee5a1"
      },
      "outputs": [
        {
          "output_type": "stream",
          "name": "stdout",
          "text": [
            "[LightGBM] [Info] Number of positive: 8006, number of negative: 8006\n",
            "[LightGBM] [Info] Auto-choosing col-wise multi-threading, the overhead of testing was 0.008309 seconds.\n",
            "You can set `force_col_wise=true` to remove the overhead.\n",
            "[LightGBM] [Info] Total Bins 16065\n",
            "[LightGBM] [Info] Number of data points in the train set: 16012, number of used features: 63\n",
            "[LightGBM] [Info] [binary:BoostFromScore]: pavg=0.500000 -> initscore=0.000000\n",
            "LGBMClassifier\n",
            "AUROC train: 0.9999808256473146\n",
            "AUROC test: 0.9433748070111706\n"
          ]
        }
      ],
      "source": [
        "# your_code\n",
        "from lightgbm import LGBMClassifier\n",
        "\n",
        "clf_lgbm=LGBMClassifier(importance_type=\"gain\", random_state=0, n_jobs=-1)\n",
        "clf_lgbm.fit(X_train, y_train)\n",
        "\n",
        "y_pred_train=clf_lgbm.predict_proba(X_train)[:, 1]\n",
        "y_pred_test=clf_lgbm.predict_proba(X_test)[:, 1]\n",
        "auroc_train=roc_auc_score(y_train, y_pred_train)\n",
        "auroc_test=roc_auc_score(y_test, y_pred_test)\n",
        "print(\"LGBMClassifier\")\n",
        "print(f\"AUROC train: {auroc_train}\")\n",
        "print(f\"AUROC test: {auroc_test}\")"
      ]
    },
    {
      "cell_type": "markdown",
      "metadata": {
        "id": "UIcuafK4Mcjq"
      },
      "source": [
        "// skomentuj tutaj \\\n",
        "\\\n",
        "Obliczenia przebiegły bardzo szybko i otrzymaliśmy najlepsze dotychczas wyniki, które przewyższają nawet wyniki otrzymane przy użyciu drzew decyzyjnych z grid searchem."
      ]
    },
    {
      "cell_type": "markdown",
      "metadata": {
        "id": "QEavlwZeMcjq"
      },
      "source": [
        "Boosting dzięki uczeniu na poprzednich drzewach redukuje nie tylko wariancję, ale też bias w błędzie, dzięki czemu może w wielu przypadkach osiągnąć lepsze rezultaty od lasu losowego. Do tego dzięki znakomitej implementacji LightGBM jest szybszy.\n",
        "\n",
        "Boosting jest jednak o wiele bardziej czuły na hiperparametry niż Random Forest. W szczególności bardzo łatwo go przeuczyć, a większość hiperparametrów, których jest dużo, wiąże się z regularyzacją modelu. To, że teraz poszło nam lepiej z domyślnymi, jest rzadkim przypadkiem.\n",
        "\n",
        "W związku z tym, że przestrzeń hiperparametrów jest duża, przeszukanie wszystkich kombinacji nie wchodzi w grę. Zamiast tego można wylosować zadaną liczbę zestawów hiperparametrów i tylko je sprawdzić - chociaż im więcej, tym lepsze wyniki powinniśmy dostać. Służy do tego `RandomizedSearchCV`. Co więcej, klasa ta potrafi próbkować rozkłady prawdopodobieństwa, a nie tylko sztywne listy wartości, co jest bardzo przydatne przy parametrach ciągłych.\n",
        "\n",
        "Hiperparametry LightGBMa są dobrze opisane w oficjalnej dokumentacji: [wersja krótsza](https://lightgbm.readthedocs.io/en/latest/pythonapi/lightgbm.LGBMClassifier.html#lightgbm.LGBMClassifier) i [wersja dłuższa](https://lightgbm.readthedocs.io/en/latest/Parameters.html). Jest ich dużo, więc nie będziemy ich tutaj omawiać. Jeżeli chodzi o ich dostrajanie w praktyce, to przydatny jest [oficjalny guide](https://lightgbm.readthedocs.io/en/latest/Parameters-Tuning.html) oraz dyskusje na Kaggle.\n",
        "\n",
        "**Zadanie 8 (1.5 punktu)**\n",
        "\n",
        "1. Zaimplementuj random search dla LightGBMa (klasa `RandomizedSearchCV`):\n",
        "   - użyj tylu prób, na ile pozwalają twoje zasoby obliczeniowe, ale przynajmniej 30\n",
        "   - przeszukaj przestrzeń hiperparametrów:\n",
        "    ```\n",
        "    param_grid = {\n",
        "        \"n_estimators\": [400, 500, 600],\n",
        "        \"learning_rate\": [0.05, 0.1, 0.2],\n",
        "        \"num_leaves\": [31, 48, 64],\n",
        "        \"colsample_bytree\": [0.8, 0.9, 1.0],\n",
        "        \"subsample\": [0.8, 0.9, 1.0],\n",
        "    }\n",
        "    ```\n",
        "2. Wypisz znalezione optymalne hiperparametry.\n",
        "3. Wypisz raporty z klasyfikacji (funkcja `classification_report`), dla modelu LightGBM bez i z dostrajaniem hiperparametrów.\n",
        "4. Skomentuj różnicę precyzji (precision) i czułości (recall) między modelami bez i z dostrajaniem hiperparametrów. Czy jest to pożądane zjawisko w tym przypadku?\n",
        "\n",
        "**Uwaga:** pamiętaj o ustawieniu `importance_type`, `random_state=0` i `n_jobs`, oraz ewentualnie `verbose` dla śledzenia przebiegu"
      ]
    },
    {
      "cell_type": "code",
      "execution_count": 21,
      "metadata": {
        "colab": {
          "base_uri": "https://localhost:8080/",
          "height": 1000
        },
        "id": "g9Eone0-Mcjq",
        "scrolled": true,
        "outputId": "ad2c5c90-7c3d-474e-beb9-5f9a60fd77e4"
      },
      "outputs": [
        {
          "output_type": "stream",
          "name": "stdout",
          "text": [
            "Fitting 5 folds for each of 30 candidates, totalling 150 fits\n",
            "[LightGBM] [Info] Number of positive: 8006, number of negative: 8006\n",
            "[LightGBM] [Info] Auto-choosing col-wise multi-threading, the overhead of testing was 0.008017 seconds.\n",
            "You can set `force_col_wise=true` to remove the overhead.\n",
            "[LightGBM] [Info] Total Bins 16065\n",
            "[LightGBM] [Info] Number of data points in the train set: 16012, number of used features: 63\n",
            "[LightGBM] [Info] [binary:BoostFromScore]: pavg=0.500000 -> initscore=0.000000\n",
            "[LightGBM] [Warning] No further splits with positive gain, best gain: -inf\n",
            "[LightGBM] [Warning] No further splits with positive gain, best gain: -inf\n",
            "[LightGBM] [Warning] No further splits with positive gain, best gain: -inf\n",
            "[LightGBM] [Warning] No further splits with positive gain, best gain: -inf\n",
            "[LightGBM] [Warning] No further splits with positive gain, best gain: -inf\n",
            "[LightGBM] [Warning] No further splits with positive gain, best gain: -inf\n",
            "[LightGBM] [Warning] No further splits with positive gain, best gain: -inf\n",
            "[LightGBM] [Warning] No further splits with positive gain, best gain: -inf\n",
            "[LightGBM] [Warning] No further splits with positive gain, best gain: -inf\n",
            "[LightGBM] [Warning] No further splits with positive gain, best gain: -inf\n",
            "[LightGBM] [Warning] No further splits with positive gain, best gain: -inf\n",
            "[LightGBM] [Warning] No further splits with positive gain, best gain: -inf\n",
            "[LightGBM] [Warning] No further splits with positive gain, best gain: -inf\n",
            "[LightGBM] [Warning] No further splits with positive gain, best gain: -inf\n",
            "[LightGBM] [Warning] No further splits with positive gain, best gain: -inf\n",
            "[LightGBM] [Warning] No further splits with positive gain, best gain: -inf\n",
            "[LightGBM] [Warning] No further splits with positive gain, best gain: -inf\n",
            "[LightGBM] [Warning] No further splits with positive gain, best gain: -inf\n",
            "[LightGBM] [Warning] No further splits with positive gain, best gain: -inf\n",
            "[LightGBM] [Warning] No further splits with positive gain, best gain: -inf\n",
            "[LightGBM] [Warning] No further splits with positive gain, best gain: -inf\n",
            "[LightGBM] [Warning] No further splits with positive gain, best gain: -inf\n",
            "[LightGBM] [Warning] No further splits with positive gain, best gain: -inf\n",
            "[LightGBM] [Warning] No further splits with positive gain, best gain: -inf\n",
            "[LightGBM] [Warning] No further splits with positive gain, best gain: -inf\n",
            "[LightGBM] [Warning] No further splits with positive gain, best gain: -inf\n",
            "[LightGBM] [Warning] No further splits with positive gain, best gain: -inf\n",
            "[LightGBM] [Warning] No further splits with positive gain, best gain: -inf\n",
            "[LightGBM] [Warning] No further splits with positive gain, best gain: -inf\n",
            "[LightGBM] [Warning] No further splits with positive gain, best gain: -inf\n",
            "[LightGBM] [Warning] No further splits with positive gain, best gain: -inf\n",
            "[LightGBM] [Warning] No further splits with positive gain, best gain: -inf\n",
            "[LightGBM] [Warning] No further splits with positive gain, best gain: -inf\n",
            "[LightGBM] [Warning] No further splits with positive gain, best gain: -inf\n",
            "[LightGBM] [Warning] No further splits with positive gain, best gain: -inf\n",
            "[LightGBM] [Warning] No further splits with positive gain, best gain: -inf\n",
            "[LightGBM] [Warning] No further splits with positive gain, best gain: -inf\n",
            "[LightGBM] [Warning] No further splits with positive gain, best gain: -inf\n",
            "[LightGBM] [Warning] No further splits with positive gain, best gain: -inf\n",
            "[LightGBM] [Warning] No further splits with positive gain, best gain: -inf\n",
            "[LightGBM] [Warning] No further splits with positive gain, best gain: -inf\n",
            "[LightGBM] [Warning] No further splits with positive gain, best gain: -inf\n",
            "[LightGBM] [Warning] No further splits with positive gain, best gain: -inf\n",
            "[LightGBM] [Warning] No further splits with positive gain, best gain: -inf\n",
            "[LightGBM] [Warning] No further splits with positive gain, best gain: -inf\n",
            "[LightGBM] [Warning] No further splits with positive gain, best gain: -inf\n",
            "[LightGBM] [Warning] No further splits with positive gain, best gain: -inf\n",
            "[LightGBM] [Warning] No further splits with positive gain, best gain: -inf\n",
            "[LightGBM] [Warning] No further splits with positive gain, best gain: -inf\n",
            "[LightGBM] [Warning] No further splits with positive gain, best gain: -inf\n",
            "[LightGBM] [Warning] No further splits with positive gain, best gain: -inf\n",
            "[LightGBM] [Warning] No further splits with positive gain, best gain: -inf\n",
            "[LightGBM] [Warning] No further splits with positive gain, best gain: -inf\n",
            "[LightGBM] [Warning] No further splits with positive gain, best gain: -inf\n",
            "[LightGBM] [Warning] No further splits with positive gain, best gain: -inf\n",
            "[LightGBM] [Warning] No further splits with positive gain, best gain: -inf\n",
            "[LightGBM] [Warning] No further splits with positive gain, best gain: -inf\n",
            "[LightGBM] [Warning] No further splits with positive gain, best gain: -inf\n",
            "[LightGBM] [Warning] No further splits with positive gain, best gain: -inf\n",
            "[LightGBM] [Warning] No further splits with positive gain, best gain: -inf\n",
            "[LightGBM] [Warning] No further splits with positive gain, best gain: -inf\n",
            "[LightGBM] [Warning] No further splits with positive gain, best gain: -inf\n",
            "[LightGBM] [Warning] No further splits with positive gain, best gain: -inf\n",
            "[LightGBM] [Warning] No further splits with positive gain, best gain: -inf\n",
            "[LightGBM] [Warning] No further splits with positive gain, best gain: -inf\n",
            "[LightGBM] [Warning] No further splits with positive gain, best gain: -inf\n",
            "[LightGBM] [Warning] No further splits with positive gain, best gain: -inf\n",
            "[LightGBM] [Warning] No further splits with positive gain, best gain: -inf\n",
            "[LightGBM] [Warning] No further splits with positive gain, best gain: -inf\n",
            "[LightGBM] [Warning] No further splits with positive gain, best gain: -inf\n",
            "[LightGBM] [Warning] No further splits with positive gain, best gain: -inf\n",
            "[LightGBM] [Warning] No further splits with positive gain, best gain: -inf\n",
            "[LightGBM] [Warning] No further splits with positive gain, best gain: -inf\n",
            "[LightGBM] [Warning] No further splits with positive gain, best gain: -inf\n",
            "[LightGBM] [Warning] No further splits with positive gain, best gain: -inf\n",
            "[LightGBM] [Warning] No further splits with positive gain, best gain: -inf\n",
            "[LightGBM] [Warning] No further splits with positive gain, best gain: -inf\n",
            "[LightGBM] [Warning] No further splits with positive gain, best gain: -inf\n",
            "[LightGBM] [Warning] No further splits with positive gain, best gain: -inf\n",
            "[LightGBM] [Warning] No further splits with positive gain, best gain: -inf\n",
            "[LightGBM] [Warning] No further splits with positive gain, best gain: -inf\n",
            "[LightGBM] [Warning] No further splits with positive gain, best gain: -inf\n",
            "[LightGBM] [Warning] No further splits with positive gain, best gain: -inf\n",
            "[LightGBM] [Warning] No further splits with positive gain, best gain: -inf\n",
            "[LightGBM] [Warning] No further splits with positive gain, best gain: -inf\n",
            "[LightGBM] [Warning] No further splits with positive gain, best gain: -inf\n",
            "[LightGBM] [Warning] No further splits with positive gain, best gain: -inf\n",
            "[LightGBM] [Warning] No further splits with positive gain, best gain: -inf\n",
            "[LightGBM] [Warning] No further splits with positive gain, best gain: -inf\n",
            "[LightGBM] [Warning] No further splits with positive gain, best gain: -inf\n",
            "[LightGBM] [Warning] No further splits with positive gain, best gain: -inf\n",
            "[LightGBM] [Warning] No further splits with positive gain, best gain: -inf\n",
            "[LightGBM] [Warning] No further splits with positive gain, best gain: -inf\n",
            "[LightGBM] [Warning] No further splits with positive gain, best gain: -inf\n",
            "[LightGBM] [Warning] No further splits with positive gain, best gain: -inf\n",
            "[LightGBM] [Warning] No further splits with positive gain, best gain: -inf\n",
            "[LightGBM] [Warning] No further splits with positive gain, best gain: -inf\n",
            "[LightGBM] [Warning] No further splits with positive gain, best gain: -inf\n",
            "[LightGBM] [Warning] No further splits with positive gain, best gain: -inf\n",
            "[LightGBM] [Warning] No further splits with positive gain, best gain: -inf\n",
            "[LightGBM] [Warning] No further splits with positive gain, best gain: -inf\n",
            "[LightGBM] [Warning] No further splits with positive gain, best gain: -inf\n",
            "[LightGBM] [Warning] No further splits with positive gain, best gain: -inf\n",
            "[LightGBM] [Warning] No further splits with positive gain, best gain: -inf\n",
            "[LightGBM] [Warning] No further splits with positive gain, best gain: -inf\n",
            "[LightGBM] [Warning] No further splits with positive gain, best gain: -inf\n",
            "[LightGBM] [Warning] No further splits with positive gain, best gain: -inf\n",
            "[LightGBM] [Warning] No further splits with positive gain, best gain: -inf\n",
            "[LightGBM] [Warning] No further splits with positive gain, best gain: -inf\n",
            "[LightGBM] [Warning] No further splits with positive gain, best gain: -inf\n",
            "[LightGBM] [Warning] No further splits with positive gain, best gain: -inf\n",
            "[LightGBM] [Warning] No further splits with positive gain, best gain: -inf\n",
            "[LightGBM] [Warning] No further splits with positive gain, best gain: -inf\n",
            "[LightGBM] [Warning] No further splits with positive gain, best gain: -inf\n",
            "[LightGBM] [Warning] No further splits with positive gain, best gain: -inf\n",
            "[LightGBM] [Warning] No further splits with positive gain, best gain: -inf\n",
            "[LightGBM] [Warning] No further splits with positive gain, best gain: -inf\n",
            "[LightGBM] [Warning] No further splits with positive gain, best gain: -inf\n",
            "[LightGBM] [Warning] No further splits with positive gain, best gain: -inf\n",
            "[LightGBM] [Warning] No further splits with positive gain, best gain: -inf\n",
            "[LightGBM] [Warning] No further splits with positive gain, best gain: -inf\n",
            "[LightGBM] [Warning] No further splits with positive gain, best gain: -inf\n",
            "[LightGBM] [Warning] No further splits with positive gain, best gain: -inf\n",
            "[LightGBM] [Warning] No further splits with positive gain, best gain: -inf\n",
            "[LightGBM] [Warning] No further splits with positive gain, best gain: -inf\n",
            "[LightGBM] [Warning] No further splits with positive gain, best gain: -inf\n",
            "[LightGBM] [Warning] No further splits with positive gain, best gain: -inf\n",
            "[LightGBM] [Warning] No further splits with positive gain, best gain: -inf\n",
            "[LightGBM] [Warning] No further splits with positive gain, best gain: -inf\n",
            "[LightGBM] [Warning] No further splits with positive gain, best gain: -inf\n",
            "[LightGBM] [Warning] No further splits with positive gain, best gain: -inf\n",
            "[LightGBM] [Warning] No further splits with positive gain, best gain: -inf\n",
            "[LightGBM] [Warning] No further splits with positive gain, best gain: -inf\n",
            "[LightGBM] [Warning] No further splits with positive gain, best gain: -inf\n",
            "[LightGBM] [Warning] No further splits with positive gain, best gain: -inf\n",
            "[LightGBM] [Warning] No further splits with positive gain, best gain: -inf\n",
            "[LightGBM] [Warning] No further splits with positive gain, best gain: -inf\n",
            "[LightGBM] [Warning] No further splits with positive gain, best gain: -inf\n",
            "[LightGBM] [Warning] No further splits with positive gain, best gain: -inf\n",
            "[LightGBM] [Warning] No further splits with positive gain, best gain: -inf\n",
            "[LightGBM] [Warning] No further splits with positive gain, best gain: -inf\n",
            "[LightGBM] [Warning] No further splits with positive gain, best gain: -inf\n",
            "[LightGBM] [Warning] No further splits with positive gain, best gain: -inf\n",
            "[LightGBM] [Warning] No further splits with positive gain, best gain: -inf\n",
            "[LightGBM] [Warning] No further splits with positive gain, best gain: -inf\n",
            "[LightGBM] [Warning] No further splits with positive gain, best gain: -inf\n",
            "[LightGBM] [Warning] No further splits with positive gain, best gain: -inf\n",
            "[LightGBM] [Warning] No further splits with positive gain, best gain: -inf\n",
            "[LightGBM] [Warning] No further splits with positive gain, best gain: -inf\n",
            "[LightGBM] [Warning] No further splits with positive gain, best gain: -inf\n",
            "[LightGBM] [Warning] No further splits with positive gain, best gain: -inf\n",
            "[LightGBM] [Warning] No further splits with positive gain, best gain: -inf\n",
            "[LightGBM] [Warning] No further splits with positive gain, best gain: -inf\n",
            "[LightGBM] [Warning] No further splits with positive gain, best gain: -inf\n",
            "[LightGBM] [Warning] No further splits with positive gain, best gain: -inf\n",
            "[LightGBM] [Warning] No further splits with positive gain, best gain: -inf\n",
            "[LightGBM] [Warning] No further splits with positive gain, best gain: -inf\n",
            "[LightGBM] [Warning] No further splits with positive gain, best gain: -inf\n",
            "[LightGBM] [Warning] No further splits with positive gain, best gain: -inf\n",
            "[LightGBM] [Warning] No further splits with positive gain, best gain: -inf\n",
            "[LightGBM] [Warning] No further splits with positive gain, best gain: -inf\n",
            "[LightGBM] [Warning] No further splits with positive gain, best gain: -inf\n",
            "[LightGBM] [Warning] No further splits with positive gain, best gain: -inf\n",
            "[LightGBM] [Warning] No further splits with positive gain, best gain: -inf\n",
            "[LightGBM] [Warning] No further splits with positive gain, best gain: -inf\n",
            "[LightGBM] [Warning] No further splits with positive gain, best gain: -inf\n",
            "[LightGBM] [Warning] No further splits with positive gain, best gain: -inf\n",
            "[LightGBM] [Warning] No further splits with positive gain, best gain: -inf\n",
            "[LightGBM] [Warning] No further splits with positive gain, best gain: -inf\n",
            "[LightGBM] [Warning] No further splits with positive gain, best gain: -inf\n",
            "[LightGBM] [Warning] No further splits with positive gain, best gain: -inf\n",
            "[LightGBM] [Warning] No further splits with positive gain, best gain: -inf\n",
            "[LightGBM] [Warning] No further splits with positive gain, best gain: -inf\n",
            "[LightGBM] [Warning] No further splits with positive gain, best gain: -inf\n",
            "[LightGBM] [Warning] No further splits with positive gain, best gain: -inf\n",
            "[LightGBM] [Warning] No further splits with positive gain, best gain: -inf\n",
            "[LightGBM] [Warning] No further splits with positive gain, best gain: -inf\n",
            "[LightGBM] [Warning] No further splits with positive gain, best gain: -inf\n",
            "[LightGBM] [Warning] No further splits with positive gain, best gain: -inf\n",
            "[LightGBM] [Warning] No further splits with positive gain, best gain: -inf\n",
            "[LightGBM] [Warning] No further splits with positive gain, best gain: -inf\n",
            "[LightGBM] [Warning] No further splits with positive gain, best gain: -inf\n",
            "[LightGBM] [Warning] No further splits with positive gain, best gain: -inf\n",
            "[LightGBM] [Warning] No further splits with positive gain, best gain: -inf\n",
            "[LightGBM] [Warning] No further splits with positive gain, best gain: -inf\n",
            "[LightGBM] [Warning] No further splits with positive gain, best gain: -inf\n",
            "[LightGBM] [Warning] No further splits with positive gain, best gain: -inf\n",
            "[LightGBM] [Warning] No further splits with positive gain, best gain: -inf\n",
            "[LightGBM] [Warning] No further splits with positive gain, best gain: -inf\n",
            "[LightGBM] [Warning] No further splits with positive gain, best gain: -inf\n",
            "[LightGBM] [Warning] No further splits with positive gain, best gain: -inf\n",
            "[LightGBM] [Warning] No further splits with positive gain, best gain: -inf\n",
            "[LightGBM] [Warning] No further splits with positive gain, best gain: -inf\n",
            "[LightGBM] [Warning] No further splits with positive gain, best gain: -inf\n",
            "[LightGBM] [Warning] No further splits with positive gain, best gain: -inf\n",
            "[LightGBM] [Warning] No further splits with positive gain, best gain: -inf\n",
            "[LightGBM] [Warning] No further splits with positive gain, best gain: -inf\n",
            "[LightGBM] [Warning] No further splits with positive gain, best gain: -inf\n",
            "[LightGBM] [Warning] No further splits with positive gain, best gain: -inf\n",
            "[LightGBM] [Warning] No further splits with positive gain, best gain: -inf\n",
            "[LightGBM] [Warning] No further splits with positive gain, best gain: -inf\n",
            "[LightGBM] [Warning] No further splits with positive gain, best gain: -inf\n",
            "[LightGBM] [Warning] No further splits with positive gain, best gain: -inf\n",
            "[LightGBM] [Warning] No further splits with positive gain, best gain: -inf\n",
            "[LightGBM] [Warning] No further splits with positive gain, best gain: -inf\n",
            "[LightGBM] [Warning] No further splits with positive gain, best gain: -inf\n",
            "[LightGBM] [Warning] No further splits with positive gain, best gain: -inf\n",
            "[LightGBM] [Warning] No further splits with positive gain, best gain: -inf\n",
            "[LightGBM] [Warning] No further splits with positive gain, best gain: -inf\n",
            "[LightGBM] [Warning] No further splits with positive gain, best gain: -inf\n",
            "[LightGBM] [Warning] No further splits with positive gain, best gain: -inf\n",
            "[LightGBM] [Warning] No further splits with positive gain, best gain: -inf\n",
            "[LightGBM] [Warning] No further splits with positive gain, best gain: -inf\n",
            "[LightGBM] [Warning] No further splits with positive gain, best gain: -inf\n",
            "[LightGBM] [Warning] No further splits with positive gain, best gain: -inf\n",
            "[LightGBM] [Warning] No further splits with positive gain, best gain: -inf\n",
            "[LightGBM] [Warning] No further splits with positive gain, best gain: -inf\n",
            "[LightGBM] [Warning] No further splits with positive gain, best gain: -inf\n",
            "[LightGBM] [Warning] No further splits with positive gain, best gain: -inf\n",
            "[LightGBM] [Warning] No further splits with positive gain, best gain: -inf\n",
            "[LightGBM] [Warning] No further splits with positive gain, best gain: -inf\n",
            "[LightGBM] [Warning] No further splits with positive gain, best gain: -inf\n",
            "[LightGBM] [Warning] No further splits with positive gain, best gain: -inf\n",
            "[LightGBM] [Warning] No further splits with positive gain, best gain: -inf\n",
            "[LightGBM] [Warning] No further splits with positive gain, best gain: -inf\n",
            "[LightGBM] [Warning] No further splits with positive gain, best gain: -inf\n",
            "[LightGBM] [Warning] No further splits with positive gain, best gain: -inf\n",
            "[LightGBM] [Warning] No further splits with positive gain, best gain: -inf\n",
            "[LightGBM] [Warning] No further splits with positive gain, best gain: -inf\n",
            "[LightGBM] [Warning] No further splits with positive gain, best gain: -inf\n",
            "[LightGBM] [Warning] No further splits with positive gain, best gain: -inf\n",
            "[LightGBM] [Warning] No further splits with positive gain, best gain: -inf\n",
            "[LightGBM] [Warning] No further splits with positive gain, best gain: -inf\n",
            "[LightGBM] [Warning] No further splits with positive gain, best gain: -inf\n",
            "[LightGBM] [Warning] No further splits with positive gain, best gain: -inf\n",
            "[LightGBM] [Warning] No further splits with positive gain, best gain: -inf\n",
            "[LightGBM] [Warning] No further splits with positive gain, best gain: -inf\n",
            "[LightGBM] [Warning] No further splits with positive gain, best gain: -inf\n",
            "[LightGBM] [Warning] No further splits with positive gain, best gain: -inf\n",
            "[LightGBM] [Warning] No further splits with positive gain, best gain: -inf\n",
            "[LightGBM] [Warning] No further splits with positive gain, best gain: -inf\n",
            "[LightGBM] [Warning] No further splits with positive gain, best gain: -inf\n",
            "[LightGBM] [Warning] No further splits with positive gain, best gain: -inf\n",
            "[LightGBM] [Warning] No further splits with positive gain, best gain: -inf\n",
            "[LightGBM] [Warning] No further splits with positive gain, best gain: -inf\n",
            "[LightGBM] [Warning] No further splits with positive gain, best gain: -inf\n",
            "[LightGBM] [Warning] No further splits with positive gain, best gain: -inf\n",
            "[LightGBM] [Warning] No further splits with positive gain, best gain: -inf\n"
          ]
        },
        {
          "output_type": "execute_result",
          "data": {
            "text/plain": [
              "RandomizedSearchCV(estimator=LGBMClassifier(importance_type='gain', n_jobs=-1,\n",
              "                                            random_state=0),\n",
              "                   n_iter=30, n_jobs=-1,\n",
              "                   param_distributions={'colsample_bytree': [0.8, 0.9, 1.0],\n",
              "                                        'learning_rate': [0.05, 0.1, 0.2],\n",
              "                                        'n_estimators': [400, 500, 600],\n",
              "                                        'num_leaves': [31, 48, 64],\n",
              "                                        'subsample': [0.8, 0.9, 1.0]},\n",
              "                   random_state=0, scoring='roc_auc', verbose=2)"
            ],
            "text/html": [
              "<style>#sk-container-id-2 {color: black;background-color: white;}#sk-container-id-2 pre{padding: 0;}#sk-container-id-2 div.sk-toggleable {background-color: white;}#sk-container-id-2 label.sk-toggleable__label {cursor: pointer;display: block;width: 100%;margin-bottom: 0;padding: 0.3em;box-sizing: border-box;text-align: center;}#sk-container-id-2 label.sk-toggleable__label-arrow:before {content: \"▸\";float: left;margin-right: 0.25em;color: #696969;}#sk-container-id-2 label.sk-toggleable__label-arrow:hover:before {color: black;}#sk-container-id-2 div.sk-estimator:hover label.sk-toggleable__label-arrow:before {color: black;}#sk-container-id-2 div.sk-toggleable__content {max-height: 0;max-width: 0;overflow: hidden;text-align: left;background-color: #f0f8ff;}#sk-container-id-2 div.sk-toggleable__content pre {margin: 0.2em;color: black;border-radius: 0.25em;background-color: #f0f8ff;}#sk-container-id-2 input.sk-toggleable__control:checked~div.sk-toggleable__content {max-height: 200px;max-width: 100%;overflow: auto;}#sk-container-id-2 input.sk-toggleable__control:checked~label.sk-toggleable__label-arrow:before {content: \"▾\";}#sk-container-id-2 div.sk-estimator input.sk-toggleable__control:checked~label.sk-toggleable__label {background-color: #d4ebff;}#sk-container-id-2 div.sk-label input.sk-toggleable__control:checked~label.sk-toggleable__label {background-color: #d4ebff;}#sk-container-id-2 input.sk-hidden--visually {border: 0;clip: rect(1px 1px 1px 1px);clip: rect(1px, 1px, 1px, 1px);height: 1px;margin: -1px;overflow: hidden;padding: 0;position: absolute;width: 1px;}#sk-container-id-2 div.sk-estimator {font-family: monospace;background-color: #f0f8ff;border: 1px dotted black;border-radius: 0.25em;box-sizing: border-box;margin-bottom: 0.5em;}#sk-container-id-2 div.sk-estimator:hover {background-color: #d4ebff;}#sk-container-id-2 div.sk-parallel-item::after {content: \"\";width: 100%;border-bottom: 1px solid gray;flex-grow: 1;}#sk-container-id-2 div.sk-label:hover label.sk-toggleable__label {background-color: #d4ebff;}#sk-container-id-2 div.sk-serial::before {content: \"\";position: absolute;border-left: 1px solid gray;box-sizing: border-box;top: 0;bottom: 0;left: 50%;z-index: 0;}#sk-container-id-2 div.sk-serial {display: flex;flex-direction: column;align-items: center;background-color: white;padding-right: 0.2em;padding-left: 0.2em;position: relative;}#sk-container-id-2 div.sk-item {position: relative;z-index: 1;}#sk-container-id-2 div.sk-parallel {display: flex;align-items: stretch;justify-content: center;background-color: white;position: relative;}#sk-container-id-2 div.sk-item::before, #sk-container-id-2 div.sk-parallel-item::before {content: \"\";position: absolute;border-left: 1px solid gray;box-sizing: border-box;top: 0;bottom: 0;left: 50%;z-index: -1;}#sk-container-id-2 div.sk-parallel-item {display: flex;flex-direction: column;z-index: 1;position: relative;background-color: white;}#sk-container-id-2 div.sk-parallel-item:first-child::after {align-self: flex-end;width: 50%;}#sk-container-id-2 div.sk-parallel-item:last-child::after {align-self: flex-start;width: 50%;}#sk-container-id-2 div.sk-parallel-item:only-child::after {width: 0;}#sk-container-id-2 div.sk-dashed-wrapped {border: 1px dashed gray;margin: 0 0.4em 0.5em 0.4em;box-sizing: border-box;padding-bottom: 0.4em;background-color: white;}#sk-container-id-2 div.sk-label label {font-family: monospace;font-weight: bold;display: inline-block;line-height: 1.2em;}#sk-container-id-2 div.sk-label-container {text-align: center;}#sk-container-id-2 div.sk-container {/* jupyter's `normalize.less` sets `[hidden] { display: none; }` but bootstrap.min.css set `[hidden] { display: none !important; }` so we also need the `!important` here to be able to override the default hidden behavior on the sphinx rendered scikit-learn.org. See: https://github.com/scikit-learn/scikit-learn/issues/21755 */display: inline-block !important;position: relative;}#sk-container-id-2 div.sk-text-repr-fallback {display: none;}</style><div id=\"sk-container-id-2\" class=\"sk-top-container\"><div class=\"sk-text-repr-fallback\"><pre>RandomizedSearchCV(estimator=LGBMClassifier(importance_type=&#x27;gain&#x27;, n_jobs=-1,\n",
              "                                            random_state=0),\n",
              "                   n_iter=30, n_jobs=-1,\n",
              "                   param_distributions={&#x27;colsample_bytree&#x27;: [0.8, 0.9, 1.0],\n",
              "                                        &#x27;learning_rate&#x27;: [0.05, 0.1, 0.2],\n",
              "                                        &#x27;n_estimators&#x27;: [400, 500, 600],\n",
              "                                        &#x27;num_leaves&#x27;: [31, 48, 64],\n",
              "                                        &#x27;subsample&#x27;: [0.8, 0.9, 1.0]},\n",
              "                   random_state=0, scoring=&#x27;roc_auc&#x27;, verbose=2)</pre><b>In a Jupyter environment, please rerun this cell to show the HTML representation or trust the notebook. <br />On GitHub, the HTML representation is unable to render, please try loading this page with nbviewer.org.</b></div><div class=\"sk-container\" hidden><div class=\"sk-item sk-dashed-wrapped\"><div class=\"sk-label-container\"><div class=\"sk-label sk-toggleable\"><input class=\"sk-toggleable__control sk-hidden--visually\" id=\"sk-estimator-id-4\" type=\"checkbox\" ><label for=\"sk-estimator-id-4\" class=\"sk-toggleable__label sk-toggleable__label-arrow\">RandomizedSearchCV</label><div class=\"sk-toggleable__content\"><pre>RandomizedSearchCV(estimator=LGBMClassifier(importance_type=&#x27;gain&#x27;, n_jobs=-1,\n",
              "                                            random_state=0),\n",
              "                   n_iter=30, n_jobs=-1,\n",
              "                   param_distributions={&#x27;colsample_bytree&#x27;: [0.8, 0.9, 1.0],\n",
              "                                        &#x27;learning_rate&#x27;: [0.05, 0.1, 0.2],\n",
              "                                        &#x27;n_estimators&#x27;: [400, 500, 600],\n",
              "                                        &#x27;num_leaves&#x27;: [31, 48, 64],\n",
              "                                        &#x27;subsample&#x27;: [0.8, 0.9, 1.0]},\n",
              "                   random_state=0, scoring=&#x27;roc_auc&#x27;, verbose=2)</pre></div></div></div><div class=\"sk-parallel\"><div class=\"sk-parallel-item\"><div class=\"sk-item\"><div class=\"sk-label-container\"><div class=\"sk-label sk-toggleable\"><input class=\"sk-toggleable__control sk-hidden--visually\" id=\"sk-estimator-id-5\" type=\"checkbox\" ><label for=\"sk-estimator-id-5\" class=\"sk-toggleable__label sk-toggleable__label-arrow\">estimator: LGBMClassifier</label><div class=\"sk-toggleable__content\"><pre>LGBMClassifier(importance_type=&#x27;gain&#x27;, n_jobs=-1, random_state=0)</pre></div></div></div><div class=\"sk-serial\"><div class=\"sk-item\"><div class=\"sk-estimator sk-toggleable\"><input class=\"sk-toggleable__control sk-hidden--visually\" id=\"sk-estimator-id-6\" type=\"checkbox\" ><label for=\"sk-estimator-id-6\" class=\"sk-toggleable__label sk-toggleable__label-arrow\">LGBMClassifier</label><div class=\"sk-toggleable__content\"><pre>LGBMClassifier(importance_type=&#x27;gain&#x27;, n_jobs=-1, random_state=0)</pre></div></div></div></div></div></div></div></div></div></div>"
            ]
          },
          "metadata": {},
          "execution_count": 21
        }
      ],
      "source": [
        "# your_code\n",
        "from sklearn.model_selection import RandomizedSearchCV\n",
        "\n",
        "param_grid = {\n",
        "   \"n_estimators\": [400, 500, 600],\n",
        "   \"learning_rate\": [0.05, 0.1, 0.2],\n",
        "   \"num_leaves\": [31, 48, 64],\n",
        "   \"colsample_bytree\": [0.8, 0.9, 1.0],\n",
        "   \"subsample\": [0.8, 0.9, 1.0],\n",
        "}\n",
        "\n",
        "lgbmc = LGBMClassifier(importance_type=\"gain\", random_state=0, n_jobs=-1)\n",
        "clf_lgbm_tuned = RandomizedSearchCV(\n",
        "    estimator=lgbmc,\n",
        "    param_distributions=param_grid,\n",
        "    n_iter=30,\n",
        "    scoring=\"roc_auc\",\n",
        "    verbose=2,\n",
        "    random_state=0,\n",
        "    n_jobs=-1)\n",
        "clf_lgbm_tuned.fit(X_train, y_train)"
      ]
    },
    {
      "cell_type": "code",
      "execution_count": 22,
      "metadata": {
        "id": "uKs-TZlm8KaS",
        "colab": {
          "base_uri": "https://localhost:8080/"
        },
        "outputId": "58a3b464-e48e-4b53-d3e0-d6289c0fa53b"
      },
      "outputs": [
        {
          "output_type": "execute_result",
          "data": {
            "text/plain": [
              "{'subsample': 0.8,\n",
              " 'num_leaves': 31,\n",
              " 'n_estimators': 600,\n",
              " 'learning_rate': 0.2,\n",
              " 'colsample_bytree': 1.0}"
            ]
          },
          "metadata": {},
          "execution_count": 22
        }
      ],
      "source": [
        "clf_lgbm_tuned.best_params_"
      ]
    },
    {
      "cell_type": "code",
      "execution_count": 23,
      "metadata": {
        "id": "oqA6jIp88TtD",
        "colab": {
          "base_uri": "https://localhost:8080/"
        },
        "outputId": "8e05e551-5111-4968-b7b7-f47f15de730d"
      },
      "outputs": [
        {
          "output_type": "stream",
          "name": "stdout",
          "text": [
            "AUROC train: 1.0\n",
            "AUROC test: 0.9467804922350377\n"
          ]
        }
      ],
      "source": [
        "y_pred_train=clf_lgbm_tuned.predict_proba(X_train)[:, 1]\n",
        "y_pred_test=clf_lgbm_tuned.predict_proba(X_test)[:, 1]\n",
        "auroc_train=roc_auc_score(y_train, y_pred_train)\n",
        "auroc_test=roc_auc_score(y_test, y_pred_test)\n",
        "print(f\"AUROC train: {auroc_train}\")\n",
        "print(f\"AUROC test: {auroc_test}\")"
      ]
    },
    {
      "cell_type": "code",
      "execution_count": 24,
      "metadata": {
        "id": "kyC9PeAXMcjr",
        "colab": {
          "base_uri": "https://localhost:8080/"
        },
        "outputId": "0829f8cb-c9c3-41aa-c6a0-68f68e4ea6e8"
      },
      "outputs": [
        {
          "output_type": "stream",
          "name": "stdout",
          "text": [
            "Without tuning\n",
            "              precision    recall  f1-score   support\n",
            "\n",
            "           0       0.98      0.98      0.98      2002\n",
            "           1       0.60      0.60      0.60        99\n",
            "\n",
            "    accuracy                           0.96      2101\n",
            "   macro avg       0.79      0.79      0.79      2101\n",
            "weighted avg       0.96      0.96      0.96      2101\n",
            "\n",
            "With tuning\n",
            "              precision    recall  f1-score   support\n",
            "\n",
            "           0       0.98      0.99      0.99      2002\n",
            "           1       0.80      0.54      0.64        99\n",
            "\n",
            "    accuracy                           0.97      2101\n",
            "   macro avg       0.89      0.76      0.81      2101\n",
            "weighted avg       0.97      0.97      0.97      2101\n",
            "\n"
          ]
        }
      ],
      "source": [
        "from sklearn.metrics import classification_report\n",
        "\n",
        "print(\"Without tuning\")\n",
        "print(classification_report(y_test, clf_lgbm.predict(X_test)))\n",
        "\n",
        "print(\"With tuning\")\n",
        "print(classification_report(y_test, clf_lgbm_tuned.predict(X_test)))"
      ]
    },
    {
      "cell_type": "markdown",
      "metadata": {
        "id": "t-SAs7R7Mcjr"
      },
      "source": [
        "// skomentuj tutaj \\\n",
        "\\\n",
        "Model po tuningu hiperparametrów ma większą precyzję ale nieco mniejszą czułość. Wzrost precyzji oznacza, że wzrósł stosunek poprawnie zakwalifikowanych pozytywnych przypadków w stosunku do wszystkich pozytywnie zakwalifikowanych - jeżeli model przewiduje bankructwo to jest większa szansa, że przewiduje je słusznie. Spadek czułości oznacza wzrost stosunku poprawnie zakwalifikowanych pozytywnych przypadków do wszystkich pozytywnych przypadków - również tych zakwalifikowanych jako negatywne - model nieco częściej niesłusznie przewiduje bankructwo. Taka zmiana tych metruk oznacza, że bank jest bardziej bezpieczny podejmując decyzje o udzieleniu kredytu więc moim zdaniem jest to zmiana na lepsze."
      ]
    },
    {
      "cell_type": "markdown",
      "metadata": {
        "id": "szGiR4YKMcjs"
      },
      "source": [
        "**Boosting - podsumowanie**\n",
        "\n",
        "1. Model oparty o uczenie zespołowe\n",
        "2. Kolejne modele są dodawane sekwencyjnie i uczą się na błędach poprzedników\n",
        "3. Nauka typowo jest oparta o minimalizację funkcji kosztu (błędu), z użyciem spadku wzdłuż gradientu\n",
        "4. Wiodący model klasyfikacji dla danych tabelarycznych, z 2 głównymi implementacjami: XGBoost i LightGBM\n",
        "5. Liczne hiperparametry, wymagające odpowiednich metod dostrajania"
      ]
    },
    {
      "cell_type": "markdown",
      "metadata": {
        "id": "rhZ8SzKyMcjs"
      },
      "source": [
        "## Wyjaśnialna AI"
      ]
    },
    {
      "cell_type": "markdown",
      "metadata": {
        "id": "ebqunrm5Mcjs"
      },
      "source": [
        "W ostatnich latach zaczęto zwracać coraz większą uwagę na wpływ sztucznej inteligencji na społeczeństwo, a na niektórych czołowych konferencjach ML nawet obowiązkowa jest sekcja \"Social impact\" w artykułach naukowych. Typowo im lepszy model, tym bardziej złożony, a najpopularniejsze modele boostingu są z natury skomplikowane. Kiedy mają podejmować krytyczne decyzje, to musimy wiedzieć, czemu predykcja jest taka, a nie inna. Jest to poddziedzina uczenia maszynowego - **wyjaśnialna AI (explainable AI, XAI)**.\n",
        "\n",
        "Taka informacja jest cenna, bo dzięki temu lepiej wiemy, co robi model. Jest to ważne z kilku powodów:\n",
        "1. Wymogi prawne - wdrażanie algorytmów w ekonomii, prawie etc. ma coraz częściej konkretne wymagania prawne co do wyjaśnialności predykcji\n",
        "2. Dodatkowa wiedza dla użytkowników - często dodatkowe obserwacje co do próbek są ciekawe same w sobie i dają wiedzę użytkownikowi (często posiadającemu specjalistyczną wiedzę z dziedziny), czasem nawet bardziej niż sam model predykcyjny\n",
        "3. Analiza modelu - dodatkowa wiedza o wewnętrznym działaniu algorytmu pozwala go lepiej zrozumieć i ulepszyć wyniki, np. przez lepszy preprocessing danych\n",
        "\n",
        "W szczególności można ją podzielić na **globalną** oraz **lokalną interpretowalność (global / local interpretability)**. Ta pierwsza próbuje wyjaśnić, czemu ogólnie model działa tak, jak działa. Analizuje strukturę modelu oraz trendy w jego predykcjach, aby podsumować w prostszy sposób jego tok myślenia. Interpretowalność lokalna z kolei dotyczy predykcji dla konkretnych próbek - czemu dla danego przykładu model podejmuje dla niego taką, a nie inną decyzję o klasyfikacji.\n",
        "\n",
        "W szczególności podstawowym sposobem interpretowalności jest **ważność cech (feature importance)**. Wyznacza ona, jak ważne są poszczególne cechy:\n",
        "- w wariancie globalnym, jak mocno model opiera się na poszczególnych cechach\n",
        "- w wariancie lokalnym, jak mocno konkretne wartości cech wpłynęły na predykcję, i w jaki sposób\n",
        "\n",
        "Teraz będzie nas interesować globalna ważność cech. Dla modeli drzewiastych definiuje się ją bardzo prosto. Każdy podział w drzewie decyzyjnym wykorzystuje jakąś cechę, i redukuje z pomocą podziału funkcję kosztu (np. entropię) o określoną ilość. Dla drzewa decyzyjnego ważność to sumaryczna redukcja entropii, jaką udało się uzyskać za pomocą danej cechy. Dla lasów losowych i boostingu sumujemy te wartości dla wszystkich drzew. Alternatywnie można też użyć liczby splitów, w jakiej została użyta dana cecha, ale jest to mniej standardowe.\n",
        "\n",
        "Warto zauważyć, że taka ważność cech jest **względna**:\n",
        "- nie mówimy, jak bardzo ogólnie ważna jest jakaś cecha, tylko jak bardzo przydatna była dla naszego modelu w celu jego wytrenowania\n",
        "- ważność cech można tylko porównywać ze sobą, np. jedna jest 2 razy ważniejsza od drugiej; nie ma ogólnych progów ważności\n",
        "\n",
        "Ze względu na powyższe, ważności cech normalizuje się często do zakresu [0, 1] dla łatwiejszego porównywania."
      ]
    },
    {
      "cell_type": "markdown",
      "metadata": {
        "id": "nJDqCImoMcjt"
      },
      "source": [
        "**Zadanie 9 (0.5 punktu)**\n",
        "\n",
        "1. Wybierz 5 najważniejszych cech dla drzewa decyzyjnego. Przedstaw wyniki na poziomym wykresie słupkowym. Użyj czytelnych nazw cech ze zmiennej `feature_names`.\n",
        "2. Powtórz powyższe dla lasu losowego, oraz dla boostingu (tutaj znormalizuj wyniki - patrz uwaga niżej). Wybierz te hiperparametry, które dały wcześniej najlepsze wyniki.\n",
        "3. Skomentuj, czy wybrane cechy twoim zdaniem mają sens jako najważniejsze cechy.\n",
        "\n",
        "**Uwaga:** Scikit-learn normalizuje ważności do zakresu [0, 1], natomiast LightGBM nie. Musisz to znormalizować samodzielnie, dzieląc przez sumę."
      ]
    },
    {
      "cell_type": "code",
      "execution_count": 28,
      "metadata": {
        "id": "0z_odcL7Mcjt"
      },
      "outputs": [],
      "source": [
        "# your_code\n",
        "def show_barplot(feature_importances):\n",
        "  features=[(importance, name) for importance, name in zip(feature_importances, column_names)]\n",
        "  features=sorted(features,reverse=True)[:5]\n",
        "\n",
        "  plt.bar([name for importance, name in features], [importance for importance, name in features])"
      ]
    },
    {
      "cell_type": "code",
      "execution_count": 29,
      "metadata": {
        "id": "0WlH7mE3EydP",
        "colab": {
          "base_uri": "https://localhost:8080/",
          "height": 430
        },
        "outputId": "31361e9a-75f9-4770-f091-26cdd59c105b"
      },
      "outputs": [
        {
          "output_type": "display_data",
          "data": {
            "text/plain": [
              "<Figure size 640x480 with 1 Axes>"
            ],
            "image/png": "[encoded data removed]"
          },
          "metadata": {}
        }
      ],
      "source": [
        "show_barplot(clf_tree2.feature_importances_)"
      ]
    },
    {
      "cell_type": "code",
      "execution_count": 32,
      "metadata": {
        "id": "C9VCcrv_E2vG",
        "colab": {
          "base_uri": "https://localhost:8080/",
          "height": 430
        },
        "outputId": "e9a80387-23c5-4f36-e0a2-a69288128ded"
      },
      "outputs": [
        {
          "output_type": "display_data",
          "data": {
            "text/plain": [
              "<Figure size 640x480 with 1 Axes>"
            ],
            "image/png": "[encoded data removed]"
          },
          "metadata": {}
        }
      ],
      "source": [
        "show_barplot(clf_forest_tuned.best_estimator_.feature_importances_)"
      ]
    },
    {
      "cell_type": "code",
      "execution_count": 35,
      "metadata": {
        "id": "2oitZ4hYE4Iw",
        "colab": {
          "base_uri": "https://localhost:8080/",
          "height": 430
        },
        "outputId": "e330b3c5-1f95-462f-e38a-a21c66855cbb"
      },
      "outputs": [
        {
          "output_type": "display_data",
          "data": {
            "text/plain": [
              "<Figure size 640x480 with 1 Axes>"
            ],
            "image/png": "[encoded data removed]"
          },
          "metadata": {}
        }
      ],
      "source": [
        "import numpy as np\n",
        "lgbm_importances=clf_lgbm_tuned.best_estimator_.feature_importances_\n",
        "show_barplot(lgbm_importances/np.sum(lgbm_importances))"
      ]
    },
    {
      "cell_type": "code",
      "source": [
        "feature_numbers=(21,27,34,16, 58, 6, 26)\n",
        "for n in feature_numbers:\n",
        "  print(f\"Attr{n}: {feature_names[n]}\")"
      ],
      "metadata": {
        "colab": {
          "base_uri": "https://localhost:8080/"
        },
        "id": "fUuVraqJnApB",
        "outputId": "26e411ce-dac1-4d06-e2db-fd8ed16a5cee"
      },
      "execution_count": 36,
      "outputs": [
        {
          "output_type": "stream",
          "name": "stdout",
          "text": [
            "Attr21: profit on operating activities / total assets\n",
            "Attr27: working capital / fixed assets\n",
            "Attr34: profit on sales / total assets\n",
            "Attr16: total assets / total liabilities\n",
            "Attr58: sales / inventory\n",
            "Attr6: EBIT / total assets\n",
            "Attr26: profit on operating activities / financial expenses\n"
          ]
        }
      ]
    },
    {
      "cell_type": "markdown",
      "metadata": {
        "id": "P7_fvYq6Mcju"
      },
      "source": [
        "// skomentuj tutaj\n",
        "\n",
        "Wszystkie modele wskazały dość podobne cechy jako te najważniejsze.\n",
        "Co prawda nie jestem ani ekonomistką, ani doradczynią kredytową, ale wszystkie te cechy wydają się faktycznie bardzo istotne przy ocenie ryzyka bankructwa bo opierają się na aktualnych zarobkach."
      ]
    },
    {
      "cell_type": "markdown",
      "metadata": {
        "id": "FNhf60suMcjv"
      },
      "source": [
        "### Dla zainteresowanych\n",
        "\n",
        "Najpopularniejszym podejściem do interpretowalności lokalnych jest **SHAP (SHapley Additive exPlanations)**, metoda oparta o kooperatywną teorię gier. Traktuje się cechy modelu jak zbiór graczy, podzielonych na dwie drużyny (koalicje): jedna chce zaklasyfikować próbkę jako negatywną, a druga jako pozytywną. O ostatecznej decyzji decyduje model, który wykorzystuje te wartości cech. Powstaje pytanie - w jakim stopniu wartości cech przyczyniły się do wyniku swojej drużyny? Można to obliczyć jako wartości Shapleya (Shapley values), które dla modeli ML oblicza algorytm SHAP. Ma on bardzo znaczące, udowodnione matematycznie zalety, a dodatkowo posiada wyjątkowo efektywną implementację dla modeli drzewiastych oraz dobre wizualizacje.\n",
        "\n",
        "Bardzo intuicyjnie, na prostym przykładzie, SHAPa wyjaśnia [pierwsza część tego artykułu](https://iancovert.com/blog/understanding-shap-sage/). Dobrze i dość szczegółówo SHAPa wyjaśnia jego autor [w tym filmie](https://www.youtube.com/watch?v=-taOhqkiuIo)."
      ]
    },
    {
      "cell_type": "markdown",
      "metadata": {
        "id": "E9mgiI4VMcjv"
      },
      "source": [
        "**Wyjaśnialna AI - podsumowanie**\n",
        "\n",
        "1. Problem zrozumienia, jak wnioskuje model i czemu podejmuje dane decyzje\n",
        "2. Ważne zarówno z perspektywy data scientist'a, jak i użytkowników systemu\n",
        "3. Można wyjaśniać model lokalnie (konkretne predykcje) lub globalnie (wpływ poszczególnych cech)"
      ]
    },
    {
      "cell_type": "markdown",
      "metadata": {
        "id": "L5lIsCBdMcjv"
      },
      "source": [
        "## Zadanie dla chętnych\n",
        "\n",
        "Dokonaj selekcji cech, usuwając 20% najsłabszych cech. Może się tu przydać klasa `SelectPercentile`. Czy Random Forest i LightGBM (bez dostrajania hiperparametrów, dla uproszczenia) wytrenowane bez najsłabszych cech dają lepszy wynik (AUROC lub innej metryki)?\n",
        "\n",
        "Wykorzystaj po 1 algorytmie z 3 grup algorytmów selekcji cech:\n",
        "1. Filter methods - mierzymy ważność każdej cechy niezależnie, za pomocą pewnej miary (typowo ze statystyki lub teorii informacji), a potem odrzucamy (filtrujemy) te o najniższej ważności. Są to np. `chi2` i `mutual_info_classif` z pakietu `sklearn.feature_selection`.\n",
        "2. Embedded methods - klasyfikator sam zwraca ważność cech, jest jego wbudowaną cechą (stąd nazwa). Jest to w szczególności właściwość wszystkich zespołowych klasyfikatorów drzewiastych. Mają po wytrenowaniu atrybut `feature_importances_`.\n",
        "2. Wrapper methods - algorytmy wykorzystujące w środku używany model (stąd nazwa), mierzące ważność cech za pomocą ich wpływu na jakość klasyfikatora. Jest to np. recursive feature elimination (klasa `RFE`). W tym algorytmie trenujemy klasyfikator na wszystkich cechach, wyrzucamy najsłabszą, trenujemy znowu i tak dalej.\n",
        "\n",
        "Typowo metody filter są najszybsze, ale dają najsłabszy wynik, natomiast metody wrapper są najwolniejsze i dają najlepszy wynik. Metody embedded są gdzieś pośrodku.\n",
        "\n",
        "Dla zainteresowanych, inne znane i bardzo dobre algorytmy:\n",
        "- Relief (filter method) oraz warianty, szczególnie ReliefF, SURF i MultiSURF (biblioteka `ReBATE`): [Wikipedia](https://en.wikipedia.org/wiki/Relief_(feature_selection)), [artykuł \"Benchmarking Relief-Based Feature Selection Methods\"](https://www.researchgate.net/publication/321307194_Benchmarking_Relief-Based_Feature_Selection_Methods)\n",
        "- Boruta (wrapper method), stworzony na Uniwersytecie Warszawskim, łączący Random Forest oraz testy statystyczne (biblioteka `boruta_py`): [link 1](https://towardsdatascience.com/boruta-explained-the-way-i-wish-someone-explained-it-to-me-4489d70e154a), [link 2](https://danielhomola.com/feature%20selection/phd/borutapy-an-all-relevant-feature-selection-method/)"
      ]
    },
    {
      "cell_type": "code",
      "execution_count": null,
      "metadata": {
        "id": "W8IGgungMcjw"
      },
      "outputs": [],
      "source": []
    }
  ],
  "metadata": {
    "colab": {
      "provenance": []
    },
    "kernelspec": {
      "display_name": "Python 3 (ipykernel)",
      "language": "python",
      "name": "python3"
    },
    "language_info": {
      "codemirror_mode": {
        "name": "ipython",
        "version": 3
      },
      "file_extension": ".py",
      "mimetype": "text/x-python",
      "name": "python",
      "nbconvert_exporter": "python",
      "pygments_lexer": "ipython3",
      "version": "3.10.6"
    }
  },
  "nbformat": 4,
  "nbformat_minor": 0
}